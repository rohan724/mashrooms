{
 "cells": [
  {
   "cell_type": "markdown",
   "metadata": {},
   "source": [
    "# Project 2: Classification"
   ]
  },
  {
   "cell_type": "code",
   "execution_count": 1,
   "metadata": {},
   "outputs": [],
   "source": [
    "import pandas as pd\n",
    "import numpy as np\n",
    "import matplotlib.pyplot as plt\n",
    "import seaborn as sns"
   ]
  },
  {
   "cell_type": "code",
   "execution_count": 2,
   "metadata": {},
   "outputs": [
    {
     "name": "stdout",
     "output_type": "stream",
     "text": [
      "<class 'pandas.core.frame.DataFrame'>\n",
      "RangeIndex: 8124 entries, 0 to 8123\n",
      "Data columns (total 23 columns):\n",
      " #   Column                    Non-Null Count  Dtype \n",
      "---  ------                    --------------  ----- \n",
      " 0   class                     8124 non-null   object\n",
      " 1   cap-shape                 8124 non-null   object\n",
      " 2   cap-surface               8124 non-null   object\n",
      " 3   cap-color                 8124 non-null   object\n",
      " 4   bruises                   8124 non-null   object\n",
      " 5   odor                      8124 non-null   object\n",
      " 6   gill-attachment           8124 non-null   object\n",
      " 7   gill-spacing              8124 non-null   object\n",
      " 8   gill-size                 8124 non-null   object\n",
      " 9   gill-color                8124 non-null   object\n",
      " 10  stalk-shape               8124 non-null   object\n",
      " 11  stalk-root                8124 non-null   object\n",
      " 12  stalk-surface-above-ring  8124 non-null   object\n",
      " 13  stalk-surface-below-ring  8124 non-null   object\n",
      " 14  stalk-color-above-ring    8124 non-null   object\n",
      " 15  stalk-color-below-ring    8124 non-null   object\n",
      " 16  veil-type                 8124 non-null   object\n",
      " 17  veil-color                8124 non-null   object\n",
      " 18  ring-number               8124 non-null   object\n",
      " 19  ring-type                 8124 non-null   object\n",
      " 20  spore-print-color         8124 non-null   object\n",
      " 21  population                8124 non-null   object\n",
      " 22  habitat                   8124 non-null   object\n",
      "dtypes: object(23)\n",
      "memory usage: 1.4+ MB\n"
     ]
    }
   ],
   "source": [
    "df = pd.read_csv(\"mushrooms.csv\")\n",
    "df.info()"
   ]
  },
  {
   "cell_type": "code",
   "execution_count": 3,
   "metadata": {},
   "outputs": [],
   "source": [
    "np.random.seed(6)\n",
    "for i in range(6):\n",
    "    col = np.random.randint(22)\n",
    "    n = np.random.uniform(0, 0.1)\n",
    "    df.loc[df.sample(frac=n).index, df.columns[col]] = np.nan"
   ]
  },
  {
   "cell_type": "markdown",
   "metadata": {},
   "source": [
    "Dealing with na values"
   ]
  },
  {
   "cell_type": "code",
   "execution_count": 4,
   "metadata": {},
   "outputs": [],
   "source": [
    "df = df[df.isnull().sum(axis=1) < 2]"
   ]
  },
  {
   "cell_type": "code",
   "execution_count": 5,
   "metadata": {},
   "outputs": [
    {
     "data": {
      "text/html": [
       "<div>\n",
       "<style scoped>\n",
       "    .dataframe tbody tr th:only-of-type {\n",
       "        vertical-align: middle;\n",
       "    }\n",
       "\n",
       "    .dataframe tbody tr th {\n",
       "        vertical-align: top;\n",
       "    }\n",
       "\n",
       "    .dataframe thead th {\n",
       "        text-align: right;\n",
       "    }\n",
       "</style>\n",
       "<table border=\"1\" class=\"dataframe\">\n",
       "  <thead>\n",
       "    <tr style=\"text-align: right;\">\n",
       "      <th></th>\n",
       "      <th>cap-shape</th>\n",
       "      <th>cap-surface</th>\n",
       "      <th>bruises</th>\n",
       "      <th>gill-attachment</th>\n",
       "      <th>stalk-shape</th>\n",
       "      <th>veil-color</th>\n",
       "    </tr>\n",
       "  </thead>\n",
       "  <tbody>\n",
       "    <tr>\n",
       "      <th>count</th>\n",
       "      <td>7576</td>\n",
       "      <td>7152</td>\n",
       "      <td>7556</td>\n",
       "      <td>7196</td>\n",
       "      <td>7173</td>\n",
       "      <td>7623</td>\n",
       "    </tr>\n",
       "    <tr>\n",
       "      <th>unique</th>\n",
       "      <td>6</td>\n",
       "      <td>4</td>\n",
       "      <td>2</td>\n",
       "      <td>2</td>\n",
       "      <td>2</td>\n",
       "      <td>4</td>\n",
       "    </tr>\n",
       "    <tr>\n",
       "      <th>top</th>\n",
       "      <td>x</td>\n",
       "      <td>y</td>\n",
       "      <td>f</td>\n",
       "      <td>f</td>\n",
       "      <td>t</td>\n",
       "      <td>w</td>\n",
       "    </tr>\n",
       "    <tr>\n",
       "      <th>freq</th>\n",
       "      <td>3410</td>\n",
       "      <td>2834</td>\n",
       "      <td>4430</td>\n",
       "      <td>7007</td>\n",
       "      <td>4068</td>\n",
       "      <td>7435</td>\n",
       "    </tr>\n",
       "  </tbody>\n",
       "</table>\n",
       "</div>"
      ],
      "text/plain": [
       "       cap-shape cap-surface bruises gill-attachment stalk-shape veil-color\n",
       "count       7576        7152    7556            7196        7173       7623\n",
       "unique         6           4       2               2           2          4\n",
       "top            x           y       f               f           t          w\n",
       "freq        3410        2834    4430            7007        4068       7435"
      ]
     },
     "execution_count": 5,
     "metadata": {},
     "output_type": "execute_result"
    }
   ],
   "source": [
    "df[['cap-shape','cap-surface','bruises','gill-attachment','stalk-shape','veil-color']].describe()"
   ]
  },
  {
   "cell_type": "code",
   "execution_count": 6,
   "metadata": {},
   "outputs": [],
   "source": [
    "df['gill-attachment'].fillna(value='f',inplace=True)\n",
    "df['veil-color'].fillna(value='w',inplace=True)"
   ]
  },
  {
   "cell_type": "markdown",
   "metadata": {},
   "source": [
    "# data preprocessing"
   ]
  },
  {
   "cell_type": "code",
   "execution_count": 7,
   "metadata": {
    "scrolled": true
   },
   "outputs": [
    {
     "name": "stdout",
     "output_type": "stream",
     "text": [
      "<class 'pandas.core.frame.DataFrame'>\n",
      "Int64Index: 6240 entries, 0 to 8123\n",
      "Data columns (total 23 columns):\n",
      " #   Column                    Non-Null Count  Dtype \n",
      "---  ------                    --------------  ----- \n",
      " 0   class                     6240 non-null   object\n",
      " 1   cap-shape                 6240 non-null   object\n",
      " 2   cap-surface               6240 non-null   object\n",
      " 3   cap-color                 6240 non-null   object\n",
      " 4   bruises                   6240 non-null   object\n",
      " 5   odor                      6240 non-null   object\n",
      " 6   gill-attachment           6240 non-null   object\n",
      " 7   gill-spacing              6240 non-null   object\n",
      " 8   gill-size                 6240 non-null   object\n",
      " 9   gill-color                6240 non-null   object\n",
      " 10  stalk-shape               6240 non-null   object\n",
      " 11  stalk-root                6240 non-null   object\n",
      " 12  stalk-surface-above-ring  6240 non-null   object\n",
      " 13  stalk-surface-below-ring  6240 non-null   object\n",
      " 14  stalk-color-above-ring    6240 non-null   object\n",
      " 15  stalk-color-below-ring    6240 non-null   object\n",
      " 16  veil-type                 6240 non-null   object\n",
      " 17  veil-color                6240 non-null   object\n",
      " 18  ring-number               6240 non-null   object\n",
      " 19  ring-type                 6240 non-null   object\n",
      " 20  spore-print-color         6240 non-null   object\n",
      " 21  population                6240 non-null   object\n",
      " 22  habitat                   6240 non-null   object\n",
      "dtypes: object(23)\n",
      "memory usage: 1.1+ MB\n"
     ]
    }
   ],
   "source": [
    "df_cleaned = df.dropna()\n",
    "df_cleaned.info()"
   ]
  },
  {
   "cell_type": "code",
   "execution_count": 8,
   "metadata": {},
   "outputs": [],
   "source": [
    "df_class = df_cleaned['class']\n",
    "del df_cleaned['class']"
   ]
  },
  {
   "cell_type": "code",
   "execution_count": 9,
   "metadata": {},
   "outputs": [],
   "source": [
    "dummies = pd.get_dummies(df_cleaned)\n",
    "final_df = dummies.join(df_class)"
   ]
  },
  {
   "cell_type": "code",
   "execution_count": 10,
   "metadata": {},
   "outputs": [],
   "source": [
    "final_df['class']= final_df['class'].map({'e':2, 'p':1})"
   ]
  },
  {
   "cell_type": "code",
   "execution_count": 11,
   "metadata": {},
   "outputs": [],
   "source": [
    "y = final_df['class']\n",
    "X = final_df.drop('class', axis=1)"
   ]
  },
  {
   "cell_type": "code",
   "execution_count": 12,
   "metadata": {},
   "outputs": [],
   "source": [
    "# splitting dataset\n",
    "from sklearn.model_selection import train_test_split\n",
    "X_train, X_test, y_train, y_test = train_test_split(X, y, test_size=0.33, random_state=1)"
   ]
  },
  {
   "cell_type": "markdown",
   "metadata": {},
   "source": [
    "# 2 models with Voting Classifier#"
   ]
  },
  {
   "cell_type": "code",
   "execution_count": 13,
   "metadata": {},
   "outputs": [],
   "source": [
    "from sklearn import model_selection\n",
    "from sklearn.ensemble import RandomForestClassifier\n",
    "from sklearn.ensemble import VotingClassifier\n",
    "from sklearn.linear_model import LogisticRegression\n",
    "from sklearn.naive_bayes import GaussianNB"
   ]
  },
  {
   "cell_type": "code",
   "execution_count": 14,
   "metadata": {},
   "outputs": [],
   "source": [
    "lr = LogisticRegression(random_state=1)\n",
    "rf = RandomForestClassifier(random_state=1)"
   ]
  },
  {
   "cell_type": "code",
   "execution_count": 15,
   "metadata": {},
   "outputs": [],
   "source": [
    "voting_clf_hard = VotingClassifier(estimators = [('LR',lr),('rf',rf)],voting = 'hard')\n",
    "voting_clf_soft = VotingClassifier(estimators = [('LR',lr),('rf',rf)],voting = 'soft')"
   ]
  },
  {
   "cell_type": "code",
   "execution_count": 16,
   "metadata": {
    "scrolled": true
   },
   "outputs": [
    {
     "name": "stdout",
     "output_type": "stream",
     "text": [
      "LogisticRegression 0.9990291262135922\n",
      "RandomForestClassifier 1.0\n",
      "VotingClassifier 1.0\n",
      "VotingClassifier 1.0\n"
     ]
    }
   ],
   "source": [
    "from sklearn.metrics import accuracy_score\n",
    "for clf in (lr, rf, voting_clf_hard, voting_clf_soft):\n",
    "    clf.fit(X_train, y_train)\n",
    "    y_pred = clf.predict(X_test)\n",
    "    print(clf.__class__.__name__, accuracy_score(y_test, y_pred))\n"
   ]
  },
  {
   "cell_type": "markdown",
   "metadata": {},
   "source": [
    "# bagging and pasting classifier"
   ]
  },
  {
   "cell_type": "markdown",
   "metadata": {},
   "source": [
    "## Decision tree with bagging"
   ]
  },
  {
   "cell_type": "code",
   "execution_count": 17,
   "metadata": {},
   "outputs": [],
   "source": [
    "from sklearn.ensemble import BaggingClassifier\n",
    "from sklearn.tree import DecisionTreeClassifier\n",
    "\n",
    "dt = DecisionTreeClassifier(random_state=0)\n",
    "bag_clf1 = BaggingClassifier(dt, n_estimators=500, max_samples=0.3, bootstrap=True, n_jobs=-1, random_state=0)\n",
    "\n",
    "bag_clf1.fit(X_train, y_train)\n",
    "y_pred = bag_clf1.predict(X_test)"
   ]
  },
  {
   "cell_type": "code",
   "execution_count": 18,
   "metadata": {
    "scrolled": false
   },
   "outputs": [
    {
     "name": "stdout",
     "output_type": "stream",
     "text": [
      "0.9980582524271845\n"
     ]
    }
   ],
   "source": [
    "from  sklearn.metrics import accuracy_score\n",
    "print(accuracy_score(y_test, y_pred))"
   ]
  },
  {
   "cell_type": "code",
   "execution_count": 19,
   "metadata": {},
   "outputs": [
    {
     "name": "stdout",
     "output_type": "stream",
     "text": [
      "Train score: 1.00\n",
      "Test score: 1.00\n"
     ]
    }
   ],
   "source": [
    "bag_clf1.fit(X_train, y_train)\n",
    "print('Train score: {:.2f}'.format(bag_clf1.score(X_train, y_train)))\n",
    "print('Test score: {:.2f}'.format(bag_clf1.score(X_test, y_test)))"
   ]
  },
  {
   "cell_type": "code",
   "execution_count": 110,
   "metadata": {},
   "outputs": [],
   "source": [
    "X_b = X_train.iloc[:,2:4]\n",
    "y_b = y_train"
   ]
  },
  {
   "cell_type": "code",
   "execution_count": 111,
   "metadata": {
    "scrolled": true
   },
   "outputs": [
    {
     "data": {
      "image/png": "[encoded data removed]",
      "text/plain": [
       "<Figure size 432x288 with 1 Axes>"
      ]
     },
     "metadata": {
      "needs_background": "light"
     },
     "output_type": "display_data"
    }
   ],
   "source": [
    "import matplotlib\n",
    "%matplotlib inline\n",
    "import matplotlib.pyplot as plt\n",
    "from mlxtend.plotting import plot_decision_regions\n",
    "bag_clf1.fit(X_b, y_b) \n",
    "plot_decision_regions(X_b.values, y_b.values, clf=bag_clf1, legend=0)\n",
    "plt.show()"
   ]
  },
  {
   "cell_type": "markdown",
   "metadata": {},
   "source": [
    "all featurees included in above graph have only 2 values '0' and '1' hence all data points overlapped each other and looks like only 3 data points but in reality they are multiple datapoints"
   ]
  },
  {
   "cell_type": "markdown",
   "metadata": {},
   "source": [
    "## lenior regression classifier with bagging"
   ]
  },
  {
   "cell_type": "code",
   "execution_count": 20,
   "metadata": {},
   "outputs": [],
   "source": [
    "\n",
    "bag_clf2 = BaggingClassifier(lr, n_estimators=500, max_samples=0.3, bootstrap=True, n_jobs=-1, random_state=0)\n",
    "\n",
    "bag_clf2.fit(X_train, y_train)\n",
    "y_pred = bag_clf2.predict(X_test)"
   ]
  },
  {
   "cell_type": "code",
   "execution_count": 21,
   "metadata": {},
   "outputs": [
    {
     "name": "stdout",
     "output_type": "stream",
     "text": [
      "0.996116504854369\n"
     ]
    }
   ],
   "source": [
    "print(accuracy_score(y_test, y_pred))"
   ]
  },
  {
   "cell_type": "code",
   "execution_count": 22,
   "metadata": {
    "scrolled": true
   },
   "outputs": [
    {
     "name": "stdout",
     "output_type": "stream",
     "text": [
      "Train score: 1.00\n",
      "Test score: 1.00\n"
     ]
    }
   ],
   "source": [
    "bag_clf2.fit(X_train, y_train)\n",
    "print('Train score: {:.2f}'.format(bag_clf2.score(X_train, y_train)))\n",
    "print('Test score: {:.2f}'.format(bag_clf2.score(X_test, y_test)))"
   ]
  },
  {
   "cell_type": "code",
   "execution_count": 112,
   "metadata": {},
   "outputs": [
    {
     "data": {
      "image/png": "[encoded data removed]",
      "text/plain": [
       "<Figure size 432x288 with 1 Axes>"
      ]
     },
     "metadata": {
      "needs_background": "light"
     },
     "output_type": "display_data"
    }
   ],
   "source": [
    "bag_clf2.fit(X_b, y_b)\n",
    "plot_decision_regions(X_b.values, y_b.values, clf=bag_clf2, legend=0)\n",
    "plt.show()"
   ]
  },
  {
   "cell_type": "markdown",
   "metadata": {},
   "source": [
    "## decision tree with pasting"
   ]
  },
  {
   "cell_type": "code",
   "execution_count": 23,
   "metadata": {},
   "outputs": [],
   "source": [
    "pasting_clf1 = BaggingClassifier(dt, n_estimators=500, max_samples=0.3, bootstrap=False, n_jobs=-1, random_state=0)\n",
    "\n",
    "pasting_clf1.fit(X_train, y_train)\n",
    "y_pred = pasting_clf1.predict(X_test)"
   ]
  },
  {
   "cell_type": "code",
   "execution_count": 24,
   "metadata": {},
   "outputs": [
    {
     "name": "stdout",
     "output_type": "stream",
     "text": [
      "0.9985436893203884\n"
     ]
    }
   ],
   "source": [
    "print(accuracy_score(y_test, y_pred))"
   ]
  },
  {
   "cell_type": "code",
   "execution_count": 25,
   "metadata": {},
   "outputs": [
    {
     "name": "stdout",
     "output_type": "stream",
     "text": [
      "Train score: 1.00\n",
      "Test score: 1.00\n"
     ]
    }
   ],
   "source": [
    "pasting_clf1.fit(X_train, y_train)\n",
    "print('Train score: {:.2f}'.format(pasting_clf1.score(X_train, y_train)))\n",
    "print('Test score: {:.2f}'.format(pasting_clf1.score(X_test, y_test)))"
   ]
  },
  {
   "cell_type": "code",
   "execution_count": 114,
   "metadata": {
    "scrolled": true
   },
   "outputs": [
    {
     "data": {
      "image/png": "[encoded data removed]",
      "text/plain": [
       "<Figure size 432x288 with 1 Axes>"
      ]
     },
     "metadata": {
      "needs_background": "light"
     },
     "output_type": "display_data"
    }
   ],
   "source": [
    "pasting_clf1.fit(X_b, y_b)\n",
    "plot_decision_regions(X_b.values, y_b.values, clf=pasting_clf1, legend=0)\n",
    "plt.show()"
   ]
  },
  {
   "cell_type": "markdown",
   "metadata": {},
   "source": [
    "## linear regression with pasting"
   ]
  },
  {
   "cell_type": "code",
   "execution_count": 26,
   "metadata": {},
   "outputs": [],
   "source": [
    "pasting_clf2 = BaggingClassifier(lr, n_estimators=500, max_samples=0.3, bootstrap=False, n_jobs=-1, random_state=0)\n",
    "\n",
    "pasting_clf2.fit(X_train, y_train)\n",
    "y_pred = pasting_clf2.predict(X_test)"
   ]
  },
  {
   "cell_type": "code",
   "execution_count": 27,
   "metadata": {},
   "outputs": [
    {
     "name": "stdout",
     "output_type": "stream",
     "text": [
      "0.9966019417475728\n"
     ]
    }
   ],
   "source": [
    "print(accuracy_score(y_test, y_pred))"
   ]
  },
  {
   "cell_type": "code",
   "execution_count": 28,
   "metadata": {
    "scrolled": true
   },
   "outputs": [
    {
     "name": "stdout",
     "output_type": "stream",
     "text": [
      "Train score: 1.00\n",
      "Test score: 1.00\n"
     ]
    }
   ],
   "source": [
    "pasting_clf2.fit(X_train, y_train)\n",
    "print('Train score: {:.2f}'.format(pasting_clf2.score(X_train, y_train)))\n",
    "print('Test score: {:.2f}'.format(pasting_clf2.score(X_test, y_test)))"
   ]
  },
  {
   "cell_type": "code",
   "execution_count": 115,
   "metadata": {},
   "outputs": [
    {
     "data": {
      "image/png": "[encoded data removed]",
      "text/plain": [
       "<Figure size 432x288 with 1 Axes>"
      ]
     },
     "metadata": {
      "needs_background": "light"
     },
     "output_type": "display_data"
    }
   ],
   "source": [
    "pasting_clf2.fit(X_b, y_b)\n",
    "plot_decision_regions(X_b.values, y_b.values, clf=pasting_clf2, legend=0)\n",
    "plt.show()"
   ]
  },
  {
   "cell_type": "markdown",
   "metadata": {},
   "source": [
    "# Adaboosting"
   ]
  },
  {
   "cell_type": "markdown",
   "metadata": {},
   "source": [
    "## decision tree with adaboosting"
   ]
  },
  {
   "cell_type": "code",
   "execution_count": 31,
   "metadata": {
    "scrolled": true
   },
   "outputs": [
    {
     "data": {
      "text/plain": [
       "AdaBoostClassifier(algorithm='SAMME.R',\n",
       "                   base_estimator=DecisionTreeClassifier(ccp_alpha=0.0,\n",
       "                                                         class_weight=None,\n",
       "                                                         criterion='gini',\n",
       "                                                         max_depth=None,\n",
       "                                                         max_features=None,\n",
       "                                                         max_leaf_nodes=None,\n",
       "                                                         min_impurity_decrease=0.0,\n",
       "                                                         min_impurity_split=None,\n",
       "                                                         min_samples_leaf=1,\n",
       "                                                         min_samples_split=2,\n",
       "                                                         min_weight_fraction_leaf=0.0,\n",
       "                                                         presort='deprecated',\n",
       "                                                         random_state=0,\n",
       "                                                         splitter='best'),\n",
       "                   learning_rate=0.5, n_estimators=200, random_state=0)"
      ]
     },
     "execution_count": 31,
     "metadata": {},
     "output_type": "execute_result"
    }
   ],
   "source": [
    "from sklearn.ensemble import AdaBoostClassifier\n",
    "ada_clf1 = AdaBoostClassifier(dt, n_estimators=200, algorithm=\"SAMME.R\", learning_rate=0.5, random_state=0)\n",
    "ada_clf1.fit(X_train, y_train)"
   ]
  },
  {
   "cell_type": "code",
   "execution_count": 32,
   "metadata": {},
   "outputs": [
    {
     "data": {
      "text/plain": [
       "AdaBoostClassifier(algorithm='SAMME.R',\n",
       "                   base_estimator=LogisticRegression(C=1.0, class_weight=None,\n",
       "                                                     dual=False,\n",
       "                                                     fit_intercept=True,\n",
       "                                                     intercept_scaling=1,\n",
       "                                                     l1_ratio=None,\n",
       "                                                     max_iter=100,\n",
       "                                                     multi_class='auto',\n",
       "                                                     n_jobs=None, penalty='l2',\n",
       "                                                     random_state=1,\n",
       "                                                     solver='lbfgs', tol=0.0001,\n",
       "                                                     verbose=0,\n",
       "                                                     warm_start=False),\n",
       "                   learning_rate=0.5, n_estimators=200, random_state=0)"
      ]
     },
     "execution_count": 32,
     "metadata": {},
     "output_type": "execute_result"
    }
   ],
   "source": [
    "ada_clf2 = AdaBoostClassifier(lr, n_estimators=200, algorithm=\"SAMME.R\", learning_rate=0.5, random_state=0)\n",
    "ada_clf2.fit(X_train, y_train)"
   ]
  },
  {
   "cell_type": "markdown",
   "metadata": {},
   "source": [
    "# GradientBoosting"
   ]
  },
  {
   "cell_type": "code",
   "execution_count": 33,
   "metadata": {},
   "outputs": [],
   "source": [
    "from sklearn.metrics import classification_report, confusion_matrix\n",
    "from sklearn.ensemble import GradientBoostingClassifier"
   ]
  },
  {
   "cell_type": "code",
   "execution_count": 34,
   "metadata": {
    "scrolled": true
   },
   "outputs": [
    {
     "name": "stdout",
     "output_type": "stream",
     "text": [
      "Learning rate:  0.05\n",
      "Accuracy score (training): 0.906\n",
      "Accuracy score (validation): 0.906\n",
      "Learning rate:  0.075\n",
      "Accuracy score (training): 0.913\n",
      "Accuracy score (validation): 0.909\n",
      "Learning rate:  0.1\n",
      "Accuracy score (training): 0.914\n",
      "Accuracy score (validation): 0.909\n",
      "Learning rate:  0.25\n",
      "Accuracy score (training): 0.933\n",
      "Accuracy score (validation): 0.928\n",
      "Learning rate:  0.5\n",
      "Accuracy score (training): 0.974\n",
      "Accuracy score (validation): 0.973\n",
      "Learning rate:  0.75\n",
      "Accuracy score (training): 0.979\n",
      "Accuracy score (validation): 0.975\n",
      "Learning rate:  1\n",
      "Accuracy score (training): 0.977\n",
      "Accuracy score (validation): 0.971\n"
     ]
    }
   ],
   "source": [
    "lr_list = [0.05, 0.075, 0.1, 0.25, 0.5, 0.75, 1]\n",
    "\n",
    "for learning_rate in lr_list:\n",
    "    gb_clf = GradientBoostingClassifier(n_estimators=20, learning_rate=learning_rate, max_features=2, max_depth=2, random_state=0)\n",
    "    gb_clf.fit(X_train, y_train)\n",
    "\n",
    "    print(\"Learning rate: \", learning_rate)\n",
    "    print(\"Accuracy score (training): {0:.3f}\".format(gb_clf.score(X_train, y_train)))\n",
    "    print(\"Accuracy score (validation): {0:.3f}\".format(gb_clf.score(X_test, y_test)))"
   ]
  },
  {
   "cell_type": "code",
   "execution_count": 39,
   "metadata": {},
   "outputs": [
    {
     "data": {
      "application/javascript": [
       "/* Put everything inside the global mpl namespace */\n",
       "window.mpl = {};\n",
       "\n",
       "\n",
       "mpl.get_websocket_type = function() {\n",
       "    if (typeof(WebSocket) !== 'undefined') {\n",
       "        return WebSocket;\n",
       "    } else if (typeof(MozWebSocket) !== 'undefined') {\n",
       "        return MozWebSocket;\n",
       "    } else {\n",
       "        alert('Your browser does not have WebSocket support. ' +\n",
       "              'Please try Chrome, Safari or Firefox ≥ 6. ' +\n",
       "              'Firefox 4 and 5 are also supported but you ' +\n",
       "              'have to enable WebSockets in about:config.');\n",
       "    };\n",
       "}\n",
       "\n",
       "mpl.figure = function(figure_id, websocket, ondownload, parent_element) {\n",
       "    this.id = figure_id;\n",
       "\n",
       "    this.ws = websocket;\n",
       "\n",
       "    this.supports_binary = (this.ws.binaryType != undefined);\n",
       "\n",
       "    if (!this.supports_binary) {\n",
       "        var warnings = document.getElementById(\"mpl-warnings\");\n",
       "        if (warnings) {\n",
       "            warnings.style.display = 'block';\n",
       "            warnings.textContent = (\n",
       "                \"This browser does not support binary websocket messages. \" +\n",
       "                    \"Performance may be slow.\");\n",
       "        }\n",
       "    }\n",
       "\n",
       "    this.imageObj = new Image();\n",
       "\n",
       "    this.context = undefined;\n",
       "    this.message = undefined;\n",
       "    this.canvas = undefined;\n",
       "    this.rubberband_canvas = undefined;\n",
       "    this.rubberband_context = undefined;\n",
       "    this.format_dropdown = undefined;\n",
       "\n",
       "    this.image_mode = 'full';\n",
       "\n",
       "    this.root = $('<div/>');\n",
       "    this._root_extra_style(this.root)\n",
       "    this.root.attr('style', 'display: inline-block');\n",
       "\n",
       "    $(parent_element).append(this.root);\n",
       "\n",
       "    this._init_header(this);\n",
       "    this._init_canvas(this);\n",
       "    this._init_toolbar(this);\n",
       "\n",
       "    var fig = this;\n",
       "\n",
       "    this.waiting = false;\n",
       "\n",
       "    this.ws.onopen =  function () {\n",
       "            fig.send_message(\"supports_binary\", {value: fig.supports_binary});\n",
       "            fig.send_message(\"send_image_mode\", {});\n",
       "            if (mpl.ratio != 1) {\n",
       "                fig.send_message(\"set_dpi_ratio\", {'dpi_ratio': mpl.ratio});\n",
       "            }\n",
       "            fig.send_message(\"refresh\", {});\n",
       "        }\n",
       "\n",
       "    this.imageObj.onload = function() {\n",
       "            if (fig.image_mode == 'full') {\n",
       "                // Full images could contain transparency (where diff images\n",
       "                // almost always do), so we need to clear the canvas so that\n",
       "                // there is no ghosting.\n",
       "                fig.context.clearRect(0, 0, fig.canvas.width, fig.canvas.height);\n",
       "            }\n",
       "            fig.context.drawImage(fig.imageObj, 0, 0);\n",
       "        };\n",
       "\n",
       "    this.imageObj.onunload = function() {\n",
       "        fig.ws.close();\n",
       "    }\n",
       "\n",
       "    this.ws.onmessage = this._make_on_message_function(this);\n",
       "\n",
       "    this.ondownload = ondownload;\n",
       "}\n",
       "\n",
       "mpl.figure.prototype._init_header = function() {\n",
       "    var titlebar = $(\n",
       "        '<div class=\"ui-dialog-titlebar ui-widget-header ui-corner-all ' +\n",
       "        'ui-helper-clearfix\"/>');\n",
       "    var titletext = $(\n",
       "        '<div class=\"ui-dialog-title\" style=\"width: 100%; ' +\n",
       "        'text-align: center; padding: 3px;\"/>');\n",
       "    titlebar.append(titletext)\n",
       "    this.root.append(titlebar);\n",
       "    this.header = titletext[0];\n",
       "}\n",
       "\n",
       "\n",
       "\n",
       "mpl.figure.prototype._canvas_extra_style = function(canvas_div) {\n",
       "\n",
       "}\n",
       "\n",
       "\n",
       "mpl.figure.prototype._root_extra_style = function(canvas_div) {\n",
       "\n",
       "}\n",
       "\n",
       "mpl.figure.prototype._init_canvas = function() {\n",
       "    var fig = this;\n",
       "\n",
       "    var canvas_div = $('<div/>');\n",
       "\n",
       "    canvas_div.attr('style', 'position: relative; clear: both; outline: 0');\n",
       "\n",
       "    function canvas_keyboard_event(event) {\n",
       "        return fig.key_event(event, event['data']);\n",
       "    }\n",
       "\n",
       "    canvas_div.keydown('key_press', canvas_keyboard_event);\n",
       "    canvas_div.keyup('key_release', canvas_keyboard_event);\n",
       "    this.canvas_div = canvas_div\n",
       "    this._canvas_extra_style(canvas_div)\n",
       "    this.root.append(canvas_div);\n",
       "\n",
       "    var canvas = $('<canvas/>');\n",
       "    canvas.addClass('mpl-canvas');\n",
       "    canvas.attr('style', \"left: 0; top: 0; z-index: 0; outline: 0\")\n",
       "\n",
       "    this.canvas = canvas[0];\n",
       "    this.context = canvas[0].getContext(\"2d\");\n",
       "\n",
       "    var backingStore = this.context.backingStorePixelRatio ||\n",
       "\tthis.context.webkitBackingStorePixelRatio ||\n",
       "\tthis.context.mozBackingStorePixelRatio ||\n",
       "\tthis.context.msBackingStorePixelRatio ||\n",
       "\tthis.context.oBackingStorePixelRatio ||\n",
       "\tthis.context.backingStorePixelRatio || 1;\n",
       "\n",
       "    mpl.ratio = (window.devicePixelRatio || 1) / backingStore;\n",
       "\n",
       "    var rubberband = $('<canvas/>');\n",
       "    rubberband.attr('style', \"position: absolute; left: 0; top: 0; z-index: 1;\")\n",
       "\n",
       "    var pass_mouse_events = true;\n",
       "\n",
       "    canvas_div.resizable({\n",
       "        start: function(event, ui) {\n",
       "            pass_mouse_events = false;\n",
       "        },\n",
       "        resize: function(event, ui) {\n",
       "            fig.request_resize(ui.size.width, ui.size.height);\n",
       "        },\n",
       "        stop: function(event, ui) {\n",
       "            pass_mouse_events = true;\n",
       "            fig.request_resize(ui.size.width, ui.size.height);\n",
       "        },\n",
       "    });\n",
       "\n",
       "    function mouse_event_fn(event) {\n",
       "        if (pass_mouse_events)\n",
       "            return fig.mouse_event(event, event['data']);\n",
       "    }\n",
       "\n",
       "    rubberband.mousedown('button_press', mouse_event_fn);\n",
       "    rubberband.mouseup('button_release', mouse_event_fn);\n",
       "    // Throttle sequential mouse events to 1 every 20ms.\n",
       "    rubberband.mousemove('motion_notify', mouse_event_fn);\n",
       "\n",
       "    rubberband.mouseenter('figure_enter', mouse_event_fn);\n",
       "    rubberband.mouseleave('figure_leave', mouse_event_fn);\n",
       "\n",
       "    canvas_div.on(\"wheel\", function (event) {\n",
       "        event = event.originalEvent;\n",
       "        event['data'] = 'scroll'\n",
       "        if (event.deltaY < 0) {\n",
       "            event.step = 1;\n",
       "        } else {\n",
       "            event.step = -1;\n",
       "        }\n",
       "        mouse_event_fn(event);\n",
       "    });\n",
       "\n",
       "    canvas_div.append(canvas);\n",
       "    canvas_div.append(rubberband);\n",
       "\n",
       "    this.rubberband = rubberband;\n",
       "    this.rubberband_canvas = rubberband[0];\n",
       "    this.rubberband_context = rubberband[0].getContext(\"2d\");\n",
       "    this.rubberband_context.strokeStyle = \"#000000\";\n",
       "\n",
       "    this._resize_canvas = function(width, height) {\n",
       "        // Keep the size of the canvas, canvas container, and rubber band\n",
       "        // canvas in synch.\n",
       "        canvas_div.css('width', width)\n",
       "        canvas_div.css('height', height)\n",
       "\n",
       "        canvas.attr('width', width * mpl.ratio);\n",
       "        canvas.attr('height', height * mpl.ratio);\n",
       "        canvas.attr('style', 'width: ' + width + 'px; height: ' + height + 'px;');\n",
       "\n",
       "        rubberband.attr('width', width);\n",
       "        rubberband.attr('height', height);\n",
       "    }\n",
       "\n",
       "    // Set the figure to an initial 600x600px, this will subsequently be updated\n",
       "    // upon first draw.\n",
       "    this._resize_canvas(600, 600);\n",
       "\n",
       "    // Disable right mouse context menu.\n",
       "    $(this.rubberband_canvas).bind(\"contextmenu\",function(e){\n",
       "        return false;\n",
       "    });\n",
       "\n",
       "    function set_focus () {\n",
       "        canvas.focus();\n",
       "        canvas_div.focus();\n",
       "    }\n",
       "\n",
       "    window.setTimeout(set_focus, 100);\n",
       "}\n",
       "\n",
       "mpl.figure.prototype._init_toolbar = function() {\n",
       "    var fig = this;\n",
       "\n",
       "    var nav_element = $('<div/>');\n",
       "    nav_element.attr('style', 'width: 100%');\n",
       "    this.root.append(nav_element);\n",
       "\n",
       "    // Define a callback function for later on.\n",
       "    function toolbar_event(event) {\n",
       "        return fig.toolbar_button_onclick(event['data']);\n",
       "    }\n",
       "    function toolbar_mouse_event(event) {\n",
       "        return fig.toolbar_button_onmouseover(event['data']);\n",
       "    }\n",
       "\n",
       "    for(var toolbar_ind in mpl.toolbar_items) {\n",
       "        var name = mpl.toolbar_items[toolbar_ind][0];\n",
       "        var tooltip = mpl.toolbar_items[toolbar_ind][1];\n",
       "        var image = mpl.toolbar_items[toolbar_ind][2];\n",
       "        var method_name = mpl.toolbar_items[toolbar_ind][3];\n",
       "\n",
       "        if (!name) {\n",
       "            // put a spacer in here.\n",
       "            continue;\n",
       "        }\n",
       "        var button = $('<button/>');\n",
       "        button.addClass('ui-button ui-widget ui-state-default ui-corner-all ' +\n",
       "                        'ui-button-icon-only');\n",
       "        button.attr('role', 'button');\n",
       "        button.attr('aria-disabled', 'false');\n",
       "        button.click(method_name, toolbar_event);\n",
       "        button.mouseover(tooltip, toolbar_mouse_event);\n",
       "\n",
       "        var icon_img = $('<span/>');\n",
       "        icon_img.addClass('ui-button-icon-primary ui-icon');\n",
       "        icon_img.addClass(image);\n",
       "        icon_img.addClass('ui-corner-all');\n",
       "\n",
       "        var tooltip_span = $('<span/>');\n",
       "        tooltip_span.addClass('ui-button-text');\n",
       "        tooltip_span.html(tooltip);\n",
       "\n",
       "        button.append(icon_img);\n",
       "        button.append(tooltip_span);\n",
       "\n",
       "        nav_element.append(button);\n",
       "    }\n",
       "\n",
       "    var fmt_picker_span = $('<span/>');\n",
       "\n",
       "    var fmt_picker = $('<select/>');\n",
       "    fmt_picker.addClass('mpl-toolbar-option ui-widget ui-widget-content');\n",
       "    fmt_picker_span.append(fmt_picker);\n",
       "    nav_element.append(fmt_picker_span);\n",
       "    this.format_dropdown = fmt_picker[0];\n",
       "\n",
       "    for (var ind in mpl.extensions) {\n",
       "        var fmt = mpl.extensions[ind];\n",
       "        var option = $(\n",
       "            '<option/>', {selected: fmt === mpl.default_extension}).html(fmt);\n",
       "        fmt_picker.append(option);\n",
       "    }\n",
       "\n",
       "    // Add hover states to the ui-buttons\n",
       "    $( \".ui-button\" ).hover(\n",
       "        function() { $(this).addClass(\"ui-state-hover\");},\n",
       "        function() { $(this).removeClass(\"ui-state-hover\");}\n",
       "    );\n",
       "\n",
       "    var status_bar = $('<span class=\"mpl-message\"/>');\n",
       "    nav_element.append(status_bar);\n",
       "    this.message = status_bar[0];\n",
       "}\n",
       "\n",
       "mpl.figure.prototype.request_resize = function(x_pixels, y_pixels) {\n",
       "    // Request matplotlib to resize the figure. Matplotlib will then trigger a resize in the client,\n",
       "    // which will in turn request a refresh of the image.\n",
       "    this.send_message('resize', {'width': x_pixels, 'height': y_pixels});\n",
       "}\n",
       "\n",
       "mpl.figure.prototype.send_message = function(type, properties) {\n",
       "    properties['type'] = type;\n",
       "    properties['figure_id'] = this.id;\n",
       "    this.ws.send(JSON.stringify(properties));\n",
       "}\n",
       "\n",
       "mpl.figure.prototype.send_draw_message = function() {\n",
       "    if (!this.waiting) {\n",
       "        this.waiting = true;\n",
       "        this.ws.send(JSON.stringify({type: \"draw\", figure_id: this.id}));\n",
       "    }\n",
       "}\n",
       "\n",
       "\n",
       "mpl.figure.prototype.handle_save = function(fig, msg) {\n",
       "    var format_dropdown = fig.format_dropdown;\n",
       "    var format = format_dropdown.options[format_dropdown.selectedIndex].value;\n",
       "    fig.ondownload(fig, format);\n",
       "}\n",
       "\n",
       "\n",
       "mpl.figure.prototype.handle_resize = function(fig, msg) {\n",
       "    var size = msg['size'];\n",
       "    if (size[0] != fig.canvas.width || size[1] != fig.canvas.height) {\n",
       "        fig._resize_canvas(size[0], size[1]);\n",
       "        fig.send_message(\"refresh\", {});\n",
       "    };\n",
       "}\n",
       "\n",
       "mpl.figure.prototype.handle_rubberband = function(fig, msg) {\n",
       "    var x0 = msg['x0'] / mpl.ratio;\n",
       "    var y0 = (fig.canvas.height - msg['y0']) / mpl.ratio;\n",
       "    var x1 = msg['x1'] / mpl.ratio;\n",
       "    var y1 = (fig.canvas.height - msg['y1']) / mpl.ratio;\n",
       "    x0 = Math.floor(x0) + 0.5;\n",
       "    y0 = Math.floor(y0) + 0.5;\n",
       "    x1 = Math.floor(x1) + 0.5;\n",
       "    y1 = Math.floor(y1) + 0.5;\n",
       "    var min_x = Math.min(x0, x1);\n",
       "    var min_y = Math.min(y0, y1);\n",
       "    var width = Math.abs(x1 - x0);\n",
       "    var height = Math.abs(y1 - y0);\n",
       "\n",
       "    fig.rubberband_context.clearRect(\n",
       "        0, 0, fig.canvas.width / mpl.ratio, fig.canvas.height / mpl.ratio);\n",
       "\n",
       "    fig.rubberband_context.strokeRect(min_x, min_y, width, height);\n",
       "}\n",
       "\n",
       "mpl.figure.prototype.handle_figure_label = function(fig, msg) {\n",
       "    // Updates the figure title.\n",
       "    fig.header.textContent = msg['label'];\n",
       "}\n",
       "\n",
       "mpl.figure.prototype.handle_cursor = function(fig, msg) {\n",
       "    var cursor = msg['cursor'];\n",
       "    switch(cursor)\n",
       "    {\n",
       "    case 0:\n",
       "        cursor = 'pointer';\n",
       "        break;\n",
       "    case 1:\n",
       "        cursor = 'default';\n",
       "        break;\n",
       "    case 2:\n",
       "        cursor = 'crosshair';\n",
       "        break;\n",
       "    case 3:\n",
       "        cursor = 'move';\n",
       "        break;\n",
       "    }\n",
       "    fig.rubberband_canvas.style.cursor = cursor;\n",
       "}\n",
       "\n",
       "mpl.figure.prototype.handle_message = function(fig, msg) {\n",
       "    fig.message.textContent = msg['message'];\n",
       "}\n",
       "\n",
       "mpl.figure.prototype.handle_draw = function(fig, msg) {\n",
       "    // Request the server to send over a new figure.\n",
       "    fig.send_draw_message();\n",
       "}\n",
       "\n",
       "mpl.figure.prototype.handle_image_mode = function(fig, msg) {\n",
       "    fig.image_mode = msg['mode'];\n",
       "}\n",
       "\n",
       "mpl.figure.prototype.updated_canvas_event = function() {\n",
       "    // Called whenever the canvas gets updated.\n",
       "    this.send_message(\"ack\", {});\n",
       "}\n",
       "\n",
       "// A function to construct a web socket function for onmessage handling.\n",
       "// Called in the figure constructor.\n",
       "mpl.figure.prototype._make_on_message_function = function(fig) {\n",
       "    return function socket_on_message(evt) {\n",
       "        if (evt.data instanceof Blob) {\n",
       "            /* FIXME: We get \"Resource interpreted as Image but\n",
       "             * transferred with MIME type text/plain:\" errors on\n",
       "             * Chrome.  But how to set the MIME type?  It doesn't seem\n",
       "             * to be part of the websocket stream */\n",
       "            evt.data.type = \"image/png\";\n",
       "\n",
       "            /* Free the memory for the previous frames */\n",
       "            if (fig.imageObj.src) {\n",
       "                (window.URL || window.webkitURL).revokeObjectURL(\n",
       "                    fig.imageObj.src);\n",
       "            }\n",
       "\n",
       "            fig.imageObj.src = (window.URL || window.webkitURL).createObjectURL(\n",
       "                evt.data);\n",
       "            fig.updated_canvas_event();\n",
       "            fig.waiting = false;\n",
       "            return;\n",
       "        }\n",
       "        else if (typeof evt.data === 'string' && evt.data.slice(0, 21) == \"data:image/png;base64\") {\n",
       "            fig.imageObj.src = evt.data;\n",
       "            fig.updated_canvas_event();\n",
       "            fig.waiting = false;\n",
       "            return;\n",
       "        }\n",
       "\n",
       "        var msg = JSON.parse(evt.data);\n",
       "        var msg_type = msg['type'];\n",
       "\n",
       "        // Call the  \"handle_{type}\" callback, which takes\n",
       "        // the figure and JSON message as its only arguments.\n",
       "        try {\n",
       "            var callback = fig[\"handle_\" + msg_type];\n",
       "        } catch (e) {\n",
       "            console.log(\"No handler for the '\" + msg_type + \"' message type: \", msg);\n",
       "            return;\n",
       "        }\n",
       "\n",
       "        if (callback) {\n",
       "            try {\n",
       "                // console.log(\"Handling '\" + msg_type + \"' message: \", msg);\n",
       "                callback(fig, msg);\n",
       "            } catch (e) {\n",
       "                console.log(\"Exception inside the 'handler_\" + msg_type + \"' callback:\", e, e.stack, msg);\n",
       "            }\n",
       "        }\n",
       "    };\n",
       "}\n",
       "\n",
       "// from http://stackoverflow.com/questions/1114465/getting-mouse-location-in-canvas\n",
       "mpl.findpos = function(e) {\n",
       "    //this section is from http://www.quirksmode.org/js/events_properties.html\n",
       "    var targ;\n",
       "    if (!e)\n",
       "        e = window.event;\n",
       "    if (e.target)\n",
       "        targ = e.target;\n",
       "    else if (e.srcElement)\n",
       "        targ = e.srcElement;\n",
       "    if (targ.nodeType == 3) // defeat Safari bug\n",
       "        targ = targ.parentNode;\n",
       "\n",
       "    // jQuery normalizes the pageX and pageY\n",
       "    // pageX,Y are the mouse positions relative to the document\n",
       "    // offset() returns the position of the element relative to the document\n",
       "    var x = e.pageX - $(targ).offset().left;\n",
       "    var y = e.pageY - $(targ).offset().top;\n",
       "\n",
       "    return {\"x\": x, \"y\": y};\n",
       "};\n",
       "\n",
       "/*\n",
       " * return a copy of an object with only non-object keys\n",
       " * we need this to avoid circular references\n",
       " * http://stackoverflow.com/a/24161582/3208463\n",
       " */\n",
       "function simpleKeys (original) {\n",
       "  return Object.keys(original).reduce(function (obj, key) {\n",
       "    if (typeof original[key] !== 'object')\n",
       "        obj[key] = original[key]\n",
       "    return obj;\n",
       "  }, {});\n",
       "}\n",
       "\n",
       "mpl.figure.prototype.mouse_event = function(event, name) {\n",
       "    var canvas_pos = mpl.findpos(event)\n",
       "\n",
       "    if (name === 'button_press')\n",
       "    {\n",
       "        this.canvas.focus();\n",
       "        this.canvas_div.focus();\n",
       "    }\n",
       "\n",
       "    var x = canvas_pos.x * mpl.ratio;\n",
       "    var y = canvas_pos.y * mpl.ratio;\n",
       "\n",
       "    this.send_message(name, {x: x, y: y, button: event.button,\n",
       "                             step: event.step,\n",
       "                             guiEvent: simpleKeys(event)});\n",
       "\n",
       "    /* This prevents the web browser from automatically changing to\n",
       "     * the text insertion cursor when the button is pressed.  We want\n",
       "     * to control all of the cursor setting manually through the\n",
       "     * 'cursor' event from matplotlib */\n",
       "    event.preventDefault();\n",
       "    return false;\n",
       "}\n",
       "\n",
       "mpl.figure.prototype._key_event_extra = function(event, name) {\n",
       "    // Handle any extra behaviour associated with a key event\n",
       "}\n",
       "\n",
       "mpl.figure.prototype.key_event = function(event, name) {\n",
       "\n",
       "    // Prevent repeat events\n",
       "    if (name == 'key_press')\n",
       "    {\n",
       "        if (event.which === this._key)\n",
       "            return;\n",
       "        else\n",
       "            this._key = event.which;\n",
       "    }\n",
       "    if (name == 'key_release')\n",
       "        this._key = null;\n",
       "\n",
       "    var value = '';\n",
       "    if (event.ctrlKey && event.which != 17)\n",
       "        value += \"ctrl+\";\n",
       "    if (event.altKey && event.which != 18)\n",
       "        value += \"alt+\";\n",
       "    if (event.shiftKey && event.which != 16)\n",
       "        value += \"shift+\";\n",
       "\n",
       "    value += 'k';\n",
       "    value += event.which.toString();\n",
       "\n",
       "    this._key_event_extra(event, name);\n",
       "\n",
       "    this.send_message(name, {key: value,\n",
       "                             guiEvent: simpleKeys(event)});\n",
       "    return false;\n",
       "}\n",
       "\n",
       "mpl.figure.prototype.toolbar_button_onclick = function(name) {\n",
       "    if (name == 'download') {\n",
       "        this.handle_save(this, null);\n",
       "    } else {\n",
       "        this.send_message(\"toolbar_button\", {name: name});\n",
       "    }\n",
       "};\n",
       "\n",
       "mpl.figure.prototype.toolbar_button_onmouseover = function(tooltip) {\n",
       "    this.message.textContent = tooltip;\n",
       "};\n",
       "mpl.toolbar_items = [[\"Home\", \"Reset original view\", \"fa fa-home icon-home\", \"home\"], [\"Back\", \"Back to previous view\", \"fa fa-arrow-left icon-arrow-left\", \"back\"], [\"Forward\", \"Forward to next view\", \"fa fa-arrow-right icon-arrow-right\", \"forward\"], [\"\", \"\", \"\", \"\"], [\"Pan\", \"Pan axes with left mouse, zoom with right\", \"fa fa-arrows icon-move\", \"pan\"], [\"Zoom\", \"Zoom to rectangle\", \"fa fa-square-o icon-check-empty\", \"zoom\"], [\"\", \"\", \"\", \"\"], [\"Download\", \"Download plot\", \"fa fa-floppy-o icon-save\", \"download\"]];\n",
       "\n",
       "mpl.extensions = [\"eps\", \"jpeg\", \"pdf\", \"png\", \"ps\", \"raw\", \"svg\", \"tif\"];\n",
       "\n",
       "mpl.default_extension = \"png\";var comm_websocket_adapter = function(comm) {\n",
       "    // Create a \"websocket\"-like object which calls the given IPython comm\n",
       "    // object with the appropriate methods. Currently this is a non binary\n",
       "    // socket, so there is still some room for performance tuning.\n",
       "    var ws = {};\n",
       "\n",
       "    ws.close = function() {\n",
       "        comm.close()\n",
       "    };\n",
       "    ws.send = function(m) {\n",
       "        //console.log('sending', m);\n",
       "        comm.send(m);\n",
       "    };\n",
       "    // Register the callback with on_msg.\n",
       "    comm.on_msg(function(msg) {\n",
       "        //console.log('receiving', msg['content']['data'], msg);\n",
       "        // Pass the mpl event to the overridden (by mpl) onmessage function.\n",
       "        ws.onmessage(msg['content']['data'])\n",
       "    });\n",
       "    return ws;\n",
       "}\n",
       "\n",
       "mpl.mpl_figure_comm = function(comm, msg) {\n",
       "    // This is the function which gets called when the mpl process\n",
       "    // starts-up an IPython Comm through the \"matplotlib\" channel.\n",
       "\n",
       "    var id = msg.content.data.id;\n",
       "    // Get hold of the div created by the display call when the Comm\n",
       "    // socket was opened in Python.\n",
       "    var element = $(\"#\" + id);\n",
       "    var ws_proxy = comm_websocket_adapter(comm)\n",
       "\n",
       "    function ondownload(figure, format) {\n",
       "        window.open(figure.imageObj.src);\n",
       "    }\n",
       "\n",
       "    var fig = new mpl.figure(id, ws_proxy,\n",
       "                           ondownload,\n",
       "                           element.get(0));\n",
       "\n",
       "    // Call onopen now - mpl needs it, as it is assuming we've passed it a real\n",
       "    // web socket which is closed, not our websocket->open comm proxy.\n",
       "    ws_proxy.onopen();\n",
       "\n",
       "    fig.parent_element = element.get(0);\n",
       "    fig.cell_info = mpl.find_output_cell(\"<div id='\" + id + \"'></div>\");\n",
       "    if (!fig.cell_info) {\n",
       "        console.error(\"Failed to find cell for figure\", id, fig);\n",
       "        return;\n",
       "    }\n",
       "\n",
       "    var output_index = fig.cell_info[2]\n",
       "    var cell = fig.cell_info[0];\n",
       "\n",
       "};\n",
       "\n",
       "mpl.figure.prototype.handle_close = function(fig, msg) {\n",
       "    var width = fig.canvas.width/mpl.ratio\n",
       "    fig.root.unbind('remove')\n",
       "\n",
       "    // Update the output cell to use the data from the current canvas.\n",
       "    fig.push_to_output();\n",
       "    var dataURL = fig.canvas.toDataURL();\n",
       "    // Re-enable the keyboard manager in IPython - without this line, in FF,\n",
       "    // the notebook keyboard shortcuts fail.\n",
       "    IPython.keyboard_manager.enable()\n",
       "    $(fig.parent_element).html('<img src=\"' + dataURL + '\" width=\"' + width + '\">');\n",
       "    fig.close_ws(fig, msg);\n",
       "}\n",
       "\n",
       "mpl.figure.prototype.close_ws = function(fig, msg){\n",
       "    fig.send_message('closing', msg);\n",
       "    // fig.ws.close()\n",
       "}\n",
       "\n",
       "mpl.figure.prototype.push_to_output = function(remove_interactive) {\n",
       "    // Turn the data on the canvas into data in the output cell.\n",
       "    var width = this.canvas.width/mpl.ratio\n",
       "    var dataURL = this.canvas.toDataURL();\n",
       "    this.cell_info[1]['text/html'] = '<img src=\"' + dataURL + '\" width=\"' + width + '\">';\n",
       "}\n",
       "\n",
       "mpl.figure.prototype.updated_canvas_event = function() {\n",
       "    // Tell IPython that the notebook contents must change.\n",
       "    IPython.notebook.set_dirty(true);\n",
       "    this.send_message(\"ack\", {});\n",
       "    var fig = this;\n",
       "    // Wait a second, then push the new image to the DOM so\n",
       "    // that it is saved nicely (might be nice to debounce this).\n",
       "    setTimeout(function () { fig.push_to_output() }, 1000);\n",
       "}\n",
       "\n",
       "mpl.figure.prototype._init_toolbar = function() {\n",
       "    var fig = this;\n",
       "\n",
       "    var nav_element = $('<div/>');\n",
       "    nav_element.attr('style', 'width: 100%');\n",
       "    this.root.append(nav_element);\n",
       "\n",
       "    // Define a callback function for later on.\n",
       "    function toolbar_event(event) {\n",
       "        return fig.toolbar_button_onclick(event['data']);\n",
       "    }\n",
       "    function toolbar_mouse_event(event) {\n",
       "        return fig.toolbar_button_onmouseover(event['data']);\n",
       "    }\n",
       "\n",
       "    for(var toolbar_ind in mpl.toolbar_items){\n",
       "        var name = mpl.toolbar_items[toolbar_ind][0];\n",
       "        var tooltip = mpl.toolbar_items[toolbar_ind][1];\n",
       "        var image = mpl.toolbar_items[toolbar_ind][2];\n",
       "        var method_name = mpl.toolbar_items[toolbar_ind][3];\n",
       "\n",
       "        if (!name) { continue; };\n",
       "\n",
       "        var button = $('<button class=\"btn btn-default\" href=\"#\" title=\"' + name + '\"><i class=\"fa ' + image + ' fa-lg\"></i></button>');\n",
       "        button.click(method_name, toolbar_event);\n",
       "        button.mouseover(tooltip, toolbar_mouse_event);\n",
       "        nav_element.append(button);\n",
       "    }\n",
       "\n",
       "    // Add the status bar.\n",
       "    var status_bar = $('<span class=\"mpl-message\" style=\"text-align:right; float: right;\"/>');\n",
       "    nav_element.append(status_bar);\n",
       "    this.message = status_bar[0];\n",
       "\n",
       "    // Add the close button to the window.\n",
       "    var buttongrp = $('<div class=\"btn-group inline pull-right\"></div>');\n",
       "    var button = $('<button class=\"btn btn-mini btn-primary\" href=\"#\" title=\"Stop Interaction\"><i class=\"fa fa-power-off icon-remove icon-large\"></i></button>');\n",
       "    button.click(function (evt) { fig.handle_close(fig, {}); } );\n",
       "    button.mouseover('Stop Interaction', toolbar_mouse_event);\n",
       "    buttongrp.append(button);\n",
       "    var titlebar = this.root.find($('.ui-dialog-titlebar'));\n",
       "    titlebar.prepend(buttongrp);\n",
       "}\n",
       "\n",
       "mpl.figure.prototype._root_extra_style = function(el){\n",
       "    var fig = this\n",
       "    el.on(\"remove\", function(){\n",
       "\tfig.close_ws(fig, {});\n",
       "    });\n",
       "}\n",
       "\n",
       "mpl.figure.prototype._canvas_extra_style = function(el){\n",
       "    // this is important to make the div 'focusable\n",
       "    el.attr('tabindex', 0)\n",
       "    // reach out to IPython and tell the keyboard manager to turn it's self\n",
       "    // off when our div gets focus\n",
       "\n",
       "    // location in version 3\n",
       "    if (IPython.notebook.keyboard_manager) {\n",
       "        IPython.notebook.keyboard_manager.register_events(el);\n",
       "    }\n",
       "    else {\n",
       "        // location in version 2\n",
       "        IPython.keyboard_manager.register_events(el);\n",
       "    }\n",
       "\n",
       "}\n",
       "\n",
       "mpl.figure.prototype._key_event_extra = function(event, name) {\n",
       "    var manager = IPython.notebook.keyboard_manager;\n",
       "    if (!manager)\n",
       "        manager = IPython.keyboard_manager;\n",
       "\n",
       "    // Check for shift+enter\n",
       "    if (event.shiftKey && event.which == 13) {\n",
       "        this.canvas_div.blur();\n",
       "        // select the cell after this one\n",
       "        var index = IPython.notebook.find_cell_index(this.cell_info[0]);\n",
       "        IPython.notebook.select(index + 1);\n",
       "    }\n",
       "}\n",
       "\n",
       "mpl.figure.prototype.handle_save = function(fig, msg) {\n",
       "    fig.ondownload(fig, null);\n",
       "}\n",
       "\n",
       "\n",
       "mpl.find_output_cell = function(html_output) {\n",
       "    // Return the cell and output element which can be found *uniquely* in the notebook.\n",
       "    // Note - this is a bit hacky, but it is done because the \"notebook_saving.Notebook\"\n",
       "    // IPython event is triggered only after the cells have been serialised, which for\n",
       "    // our purposes (turning an active figure into a static one), is too late.\n",
       "    var cells = IPython.notebook.get_cells();\n",
       "    var ncells = cells.length;\n",
       "    for (var i=0; i<ncells; i++) {\n",
       "        var cell = cells[i];\n",
       "        if (cell.cell_type === 'code'){\n",
       "            for (var j=0; j<cell.output_area.outputs.length; j++) {\n",
       "                var data = cell.output_area.outputs[j];\n",
       "                if (data.data) {\n",
       "                    // IPython >= 3 moved mimebundle to data attribute of output\n",
       "                    data = data.data;\n",
       "                }\n",
       "                if (data['text/html'] == html_output) {\n",
       "                    return [cell, data, j];\n",
       "                }\n",
       "            }\n",
       "        }\n",
       "    }\n",
       "}\n",
       "\n",
       "// Register the function which deals with the matplotlib target/channel.\n",
       "// The kernel may be null if the page has been refreshed.\n",
       "if (IPython.notebook.kernel != null) {\n",
       "    IPython.notebook.kernel.comm_manager.register_target('matplotlib', mpl.mpl_figure_comm);\n",
       "}\n"
      ],
      "text/plain": [
       "<IPython.core.display.Javascript object>"
      ]
     },
     "metadata": {},
     "output_type": "display_data"
    },
    {
     "data": {
      "text/html": [
       "<img src=\"data:image/png;base64,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\" width=\"432\">"
      ],
      "text/plain": [
       "<IPython.core.display.HTML object>"
      ]
     },
     "metadata": {},
     "output_type": "display_data"
    },
    {
     "data": {
      "text/plain": [
       "([<matplotlib.axis.YTick at 0x26f38d07788>,\n",
       "  <matplotlib.axis.YTick at 0x26f38d25488>,\n",
       "  <matplotlib.axis.YTick at 0x26f38d29908>,\n",
       "  <matplotlib.axis.YTick at 0x26f38d7b848>,\n",
       "  <matplotlib.axis.YTick at 0x26f38d7e208>,\n",
       "  <matplotlib.axis.YTick at 0x26f38d7e988>,\n",
       "  <matplotlib.axis.YTick at 0x26f38d84048>,\n",
       "  <matplotlib.axis.YTick at 0x26f38d84b08>,\n",
       "  <matplotlib.axis.YTick at 0x26f38d84308>,\n",
       "  <matplotlib.axis.YTick at 0x26f38d872c8>,\n",
       "  <matplotlib.axis.YTick at 0x26f38d87d88>,\n",
       "  <matplotlib.axis.YTick at 0x26f38d8c888>,\n",
       "  <matplotlib.axis.YTick at 0x26f38d90408>,\n",
       "  <matplotlib.axis.YTick at 0x26f38d930c8>,\n",
       "  <matplotlib.axis.YTick at 0x26f38d93ac8>,\n",
       "  <matplotlib.axis.YTick at 0x26f38d97648>,\n",
       "  <matplotlib.axis.YTick at 0x26f38d9b248>,\n",
       "  <matplotlib.axis.YTick at 0x26f38d97d88>,\n",
       "  <matplotlib.axis.YTick at 0x26f38d9b808>],\n",
       " <a list of 19 Text yticklabel objects>)"
      ]
     },
     "execution_count": 39,
     "metadata": {},
     "output_type": "execute_result"
    }
   ],
   "source": [
    "%matplotlib notebook\n",
    "\n",
    "y_list = gb_clf.feature_importances_[1:20]\n",
    "y_pos = np.arange(len(y_list))\n",
    "features = X.columns[1:20]\n",
    "plt.barh(y_pos, y_list, align='center', alpha=0.4)\n",
    "plt.yticks(y_pos, features)"
   ]
  },
  {
   "cell_type": "markdown",
   "metadata": {},
   "source": [
    "# Model with pca"
   ]
  },
  {
   "cell_type": "code",
   "execution_count": 41,
   "metadata": {},
   "outputs": [],
   "source": [
    "from sklearn.decomposition import PCA\n",
    "pca_alg = PCA(0.95)\n",
    "x_train_reduced = pca_alg.fit_transform(X_train)\n",
    "x_test_reduced = pca_alg.transform(X_test)\n",
    "x_reduced = pca_alg.transform(X)"
   ]
  },
  {
   "cell_type": "markdown",
   "metadata": {},
   "source": [
    "## knn with pca"
   ]
  },
  {
   "cell_type": "code",
   "execution_count": 42,
   "metadata": {},
   "outputs": [
    {
     "data": {
      "text/plain": [
       "0.9999989687121001"
      ]
     },
     "execution_count": 42,
     "metadata": {},
     "output_type": "execute_result"
    }
   ],
   "source": [
    "from sklearn.neighbors import KNeighborsClassifier\n",
    "from sklearn.model_selection import GridSearchCV\n",
    "from sklearn.metrics import confusion_matrix\n",
    "knn = KNeighborsClassifier()\n",
    "param_grid = {'n_neighbors':[1, 5, 10, 15, 20]}\n",
    "\n",
    "grid_knn = GridSearchCV(knn, param_grid=param_grid, cv = 5, scoring='roc_auc')\n",
    "grid_knn.fit(x_train_reduced, y_train)\n",
    "grid_knn.score(x_train_reduced, y_train)"
   ]
  },
  {
   "cell_type": "code",
   "execution_count": 43,
   "metadata": {},
   "outputs": [
    {
     "data": {
      "text/plain": [
       "0.9999999999999999"
      ]
     },
     "execution_count": 43,
     "metadata": {},
     "output_type": "execute_result"
    }
   ],
   "source": [
    "grid_knn.score(x_test_reduced, y_test)"
   ]
  },
  {
   "cell_type": "code",
   "execution_count": 44,
   "metadata": {},
   "outputs": [
    {
     "data": {
      "text/plain": [
       "{'n_neighbors': 10}"
      ]
     },
     "execution_count": 44,
     "metadata": {},
     "output_type": "execute_result"
    }
   ],
   "source": [
    "grid_knn.best_params_"
   ]
  },
  {
   "cell_type": "code",
   "execution_count": 45,
   "metadata": {},
   "outputs": [
    {
     "data": {
      "text/html": [
       "<div>\n",
       "<style scoped>\n",
       "    .dataframe tbody tr th:only-of-type {\n",
       "        vertical-align: middle;\n",
       "    }\n",
       "\n",
       "    .dataframe tbody tr th {\n",
       "        vertical-align: top;\n",
       "    }\n",
       "\n",
       "    .dataframe thead th {\n",
       "        text-align: right;\n",
       "    }\n",
       "</style>\n",
       "<table border=\"1\" class=\"dataframe\">\n",
       "  <thead>\n",
       "    <tr style=\"text-align: right;\">\n",
       "      <th></th>\n",
       "      <th>param_n_neighbors</th>\n",
       "      <th>mean_test_score</th>\n",
       "    </tr>\n",
       "  </thead>\n",
       "  <tbody>\n",
       "    <tr>\n",
       "      <th>0</th>\n",
       "      <td>1</td>\n",
       "      <td>0.999505</td>\n",
       "    </tr>\n",
       "    <tr>\n",
       "      <th>1</th>\n",
       "      <td>5</td>\n",
       "      <td>0.999750</td>\n",
       "    </tr>\n",
       "    <tr>\n",
       "      <th>2</th>\n",
       "      <td>10</td>\n",
       "      <td>0.999995</td>\n",
       "    </tr>\n",
       "    <tr>\n",
       "      <th>3</th>\n",
       "      <td>15</td>\n",
       "      <td>0.999991</td>\n",
       "    </tr>\n",
       "    <tr>\n",
       "      <th>4</th>\n",
       "      <td>20</td>\n",
       "      <td>0.999986</td>\n",
       "    </tr>\n",
       "  </tbody>\n",
       "</table>\n",
       "</div>"
      ],
      "text/plain": [
       "  param_n_neighbors  mean_test_score\n",
       "0                 1         0.999505\n",
       "1                 5         0.999750\n",
       "2                10         0.999995\n",
       "3                15         0.999991\n",
       "4                20         0.999986"
      ]
     },
     "execution_count": 45,
     "metadata": {},
     "output_type": "execute_result"
    }
   ],
   "source": [
    "cv_results = pd.DataFrame.from_dict(grid_knn.cv_results_)\n",
    "cv_results[['param_n_neighbors','mean_test_score']]"
   ]
  },
  {
   "cell_type": "code",
   "execution_count": 46,
   "metadata": {},
   "outputs": [
    {
     "name": "stdout",
     "output_type": "stream",
     "text": [
      "Train roc_auc_score: 1.00\n",
      "Test roc_auc_score: 1.00 \n"
     ]
    }
   ],
   "source": [
    "from sklearn.metrics import roc_auc_score\n",
    "y_knn_predict = grid_knn.predict(x_test_reduced)\n",
    "y_knn_train_predict = grid_knn.predict(x_train_reduced)\n",
    "print('Train roc_auc_score: %.2f'%roc_auc_score(y_knn_train_predict, y_train))\n",
    "print('Test roc_auc_score: %.2f '%roc_auc_score(y_knn_predict, y_test))"
   ]
  },
  {
   "cell_type": "code",
   "execution_count": 47,
   "metadata": {},
   "outputs": [
    {
     "name": "stdout",
     "output_type": "stream",
     "text": [
      "[[ 994    5]\n",
      " [   0 1061]]\n"
     ]
    }
   ],
   "source": [
    "knn_cmatrix = confusion_matrix(y_test, y_knn_predict)\n",
    "print (knn_cmatrix)"
   ]
  },
  {
   "cell_type": "code",
   "execution_count": 48,
   "metadata": {},
   "outputs": [],
   "source": [
    "report_table =[['knn', 'k = 10', grid_knn.score(x_train_reduced, y_train), grid_knn.score(x_test_reduced, y_test), roc_auc_score(y_knn_train_predict, y_train), roc_auc_score(y_knn_predict, y_test) ]]"
   ]
  },
  {
   "cell_type": "markdown",
   "metadata": {},
   "source": [
    "## logistic regression with pca"
   ]
  },
  {
   "cell_type": "code",
   "execution_count": 49,
   "metadata": {},
   "outputs": [
    {
     "data": {
      "text/plain": [
       "GridSearchCV(cv=5, error_score=nan,\n",
       "             estimator=LogisticRegression(C=1.0, class_weight=None, dual=False,\n",
       "                                          fit_intercept=True,\n",
       "                                          intercept_scaling=1, l1_ratio=None,\n",
       "                                          max_iter=100, multi_class='auto',\n",
       "                                          n_jobs=None, penalty='l2',\n",
       "                                          random_state=None, solver='liblinear',\n",
       "                                          tol=0.0001, verbose=0,\n",
       "                                          warm_start=False),\n",
       "             iid='deprecated', n_jobs=None,\n",
       "             param_grid={'C': [0.01, 0.1, 1, 10, 100]}, pre_dispatch='2*n_jobs',\n",
       "             refit=True, return_train_score=False, scoring=None, verbose=0)"
      ]
     },
     "execution_count": 49,
     "metadata": {},
     "output_type": "execute_result"
    }
   ],
   "source": [
    "from sklearn.linear_model import LogisticRegression\n",
    "\n",
    "param_grid = {'C':[0.01, 0.1, 1, 10, 100]}\n",
    "\n",
    "logis_reg = LogisticRegression(solver='liblinear',multi_class='auto')\n",
    "\n",
    "grid_log = GridSearchCV(logis_reg, param_grid = param_grid, cv = 5)\n",
    "grid_log.fit(x_train_reduced, y_train)"
   ]
  },
  {
   "cell_type": "code",
   "execution_count": 50,
   "metadata": {},
   "outputs": [
    {
     "data": {
      "text/html": [
       "<div>\n",
       "<style scoped>\n",
       "    .dataframe tbody tr th:only-of-type {\n",
       "        vertical-align: middle;\n",
       "    }\n",
       "\n",
       "    .dataframe tbody tr th {\n",
       "        vertical-align: top;\n",
       "    }\n",
       "\n",
       "    .dataframe thead th {\n",
       "        text-align: right;\n",
       "    }\n",
       "</style>\n",
       "<table border=\"1\" class=\"dataframe\">\n",
       "  <thead>\n",
       "    <tr style=\"text-align: right;\">\n",
       "      <th></th>\n",
       "      <th>params</th>\n",
       "      <th>mean_test_score</th>\n",
       "    </tr>\n",
       "  </thead>\n",
       "  <tbody>\n",
       "    <tr>\n",
       "      <th>0</th>\n",
       "      <td>{'C': 0.01}</td>\n",
       "      <td>0.971770</td>\n",
       "    </tr>\n",
       "    <tr>\n",
       "      <th>1</th>\n",
       "      <td>{'C': 0.1}</td>\n",
       "      <td>0.981100</td>\n",
       "    </tr>\n",
       "    <tr>\n",
       "      <th>2</th>\n",
       "      <td>{'C': 1}</td>\n",
       "      <td>0.992584</td>\n",
       "    </tr>\n",
       "    <tr>\n",
       "      <th>3</th>\n",
       "      <td>{'C': 10}</td>\n",
       "      <td>0.997129</td>\n",
       "    </tr>\n",
       "    <tr>\n",
       "      <th>4</th>\n",
       "      <td>{'C': 100}</td>\n",
       "      <td>0.999761</td>\n",
       "    </tr>\n",
       "  </tbody>\n",
       "</table>\n",
       "</div>"
      ],
      "text/plain": [
       "        params  mean_test_score\n",
       "0  {'C': 0.01}         0.971770\n",
       "1   {'C': 0.1}         0.981100\n",
       "2     {'C': 1}         0.992584\n",
       "3    {'C': 10}         0.997129\n",
       "4   {'C': 100}         0.999761"
      ]
     },
     "execution_count": 50,
     "metadata": {},
     "output_type": "execute_result"
    }
   ],
   "source": [
    "cv_results = pd.DataFrame.from_dict(grid_log.cv_results_)\n",
    "cv_results[['params','mean_test_score']]"
   ]
  },
  {
   "cell_type": "code",
   "execution_count": 51,
   "metadata": {},
   "outputs": [
    {
     "name": "stdout",
     "output_type": "stream",
     "text": [
      "Train roc_auc_score: 1.00\n",
      "Test roc_auc_score: 1.00 \n"
     ]
    }
   ],
   "source": [
    "from sklearn.metrics import roc_auc_score\n",
    "y_log_predict = grid_log.predict(x_test_reduced)\n",
    "y_log_train_predict = grid_log.predict(x_train_reduced)\n",
    "print('Train roc_auc_score: %.2f'%roc_auc_score(y_log_train_predict, y_train))\n",
    "print('Test roc_auc_score: %.2f '%roc_auc_score(y_log_predict, y_test))"
   ]
  },
  {
   "cell_type": "code",
   "execution_count": 52,
   "metadata": {},
   "outputs": [
    {
     "name": "stdout",
     "output_type": "stream",
     "text": [
      "[[ 999    0]\n",
      " [   0 1061]]\n"
     ]
    }
   ],
   "source": [
    "log_cmatrix = confusion_matrix(y_test, y_log_predict)\n",
    "print (log_cmatrix)"
   ]
  },
  {
   "cell_type": "code",
   "execution_count": 53,
   "metadata": {},
   "outputs": [],
   "source": [
    "report_table = report_table+[['Logistic', 'C = 100', grid_log.score(x_train_reduced, y_train), grid_log.score(x_test_reduced, y_test), roc_auc_score(y_log_train_predict, y_train), roc_auc_score(y_log_predict, y_test) ]]"
   ]
  },
  {
   "cell_type": "markdown",
   "metadata": {},
   "source": [
    "## svm kernal rbf linear"
   ]
  },
  {
   "cell_type": "code",
   "execution_count": 54,
   "metadata": {},
   "outputs": [
    {
     "data": {
      "text/plain": [
       "GridSearchCV(cv=5, error_score=nan,\n",
       "             estimator=SVC(C=1.0, break_ties=False, cache_size=200,\n",
       "                           class_weight=None, coef0=0.0,\n",
       "                           decision_function_shape='ovr', degree=3,\n",
       "                           gamma='auto', kernel='rbf', max_iter=-1,\n",
       "                           probability=False, random_state=None, shrinking=True,\n",
       "                           tol=0.001, verbose=False),\n",
       "             iid='deprecated', n_jobs=None,\n",
       "             param_grid={'C': [0.01, 0.1, 1, 10, 100],\n",
       "                         'kernel': ['linear', 'rbf']},\n",
       "             pre_dispatch='2*n_jobs', refit=True, return_train_score=True,\n",
       "             scoring=None, verbose=0)"
      ]
     },
     "execution_count": 54,
     "metadata": {},
     "output_type": "execute_result"
    }
   ],
   "source": [
    "from sklearn import svm\n",
    "from sklearn.model_selection import GridSearchCV\n",
    "grid_svc = GridSearchCV(svm.SVC(gamma='auto'), {\n",
    "    'C': [0.01,0.1,1,10,100],\n",
    "    'kernel': ['linear','rbf']\n",
    "}, cv=5, return_train_score=True)\n",
    "grid_svc.fit(x_reduced,y)"
   ]
  },
  {
   "cell_type": "code",
   "execution_count": 55,
   "metadata": {},
   "outputs": [
    {
     "data": {
      "text/html": [
       "<div>\n",
       "<style scoped>\n",
       "    .dataframe tbody tr th:only-of-type {\n",
       "        vertical-align: middle;\n",
       "    }\n",
       "\n",
       "    .dataframe tbody tr th {\n",
       "        vertical-align: top;\n",
       "    }\n",
       "\n",
       "    .dataframe thead th {\n",
       "        text-align: right;\n",
       "    }\n",
       "</style>\n",
       "<table border=\"1\" class=\"dataframe\">\n",
       "  <thead>\n",
       "    <tr style=\"text-align: right;\">\n",
       "      <th></th>\n",
       "      <th>param_C</th>\n",
       "      <th>param_kernel</th>\n",
       "      <th>mean_train_score</th>\n",
       "      <th>mean_test_score</th>\n",
       "    </tr>\n",
       "  </thead>\n",
       "  <tbody>\n",
       "    <tr>\n",
       "      <th>0</th>\n",
       "      <td>0.01</td>\n",
       "      <td>linear</td>\n",
       "      <td>0.983253</td>\n",
       "      <td>0.856891</td>\n",
       "    </tr>\n",
       "    <tr>\n",
       "      <th>1</th>\n",
       "      <td>0.01</td>\n",
       "      <td>rbf</td>\n",
       "      <td>0.911258</td>\n",
       "      <td>0.890865</td>\n",
       "    </tr>\n",
       "    <tr>\n",
       "      <th>2</th>\n",
       "      <td>0.1</td>\n",
       "      <td>linear</td>\n",
       "      <td>0.992989</td>\n",
       "      <td>0.895353</td>\n",
       "    </tr>\n",
       "    <tr>\n",
       "      <th>3</th>\n",
       "      <td>0.1</td>\n",
       "      <td>rbf</td>\n",
       "      <td>0.981130</td>\n",
       "      <td>0.841827</td>\n",
       "    </tr>\n",
       "    <tr>\n",
       "      <th>4</th>\n",
       "      <td>1</td>\n",
       "      <td>linear</td>\n",
       "      <td>0.998277</td>\n",
       "      <td>0.949679</td>\n",
       "    </tr>\n",
       "    <tr>\n",
       "      <th>5</th>\n",
       "      <td>1</td>\n",
       "      <td>rbf</td>\n",
       "      <td>0.997837</td>\n",
       "      <td>0.893429</td>\n",
       "    </tr>\n",
       "    <tr>\n",
       "      <th>6</th>\n",
       "      <td>10</td>\n",
       "      <td>linear</td>\n",
       "      <td>1.000000</td>\n",
       "      <td>0.965224</td>\n",
       "    </tr>\n",
       "    <tr>\n",
       "      <th>7</th>\n",
       "      <td>10</td>\n",
       "      <td>rbf</td>\n",
       "      <td>1.000000</td>\n",
       "      <td>0.935577</td>\n",
       "    </tr>\n",
       "    <tr>\n",
       "      <th>8</th>\n",
       "      <td>100</td>\n",
       "      <td>linear</td>\n",
       "      <td>1.000000</td>\n",
       "      <td>0.969071</td>\n",
       "    </tr>\n",
       "    <tr>\n",
       "      <th>9</th>\n",
       "      <td>100</td>\n",
       "      <td>rbf</td>\n",
       "      <td>1.000000</td>\n",
       "      <td>0.936378</td>\n",
       "    </tr>\n",
       "  </tbody>\n",
       "</table>\n",
       "</div>"
      ],
      "text/plain": [
       "  param_C param_kernel  mean_train_score  mean_test_score\n",
       "0    0.01       linear          0.983253         0.856891\n",
       "1    0.01          rbf          0.911258         0.890865\n",
       "2     0.1       linear          0.992989         0.895353\n",
       "3     0.1          rbf          0.981130         0.841827\n",
       "4       1       linear          0.998277         0.949679\n",
       "5       1          rbf          0.997837         0.893429\n",
       "6      10       linear          1.000000         0.965224\n",
       "7      10          rbf          1.000000         0.935577\n",
       "8     100       linear          1.000000         0.969071\n",
       "9     100          rbf          1.000000         0.936378"
      ]
     },
     "execution_count": 55,
     "metadata": {},
     "output_type": "execute_result"
    }
   ],
   "source": [
    "df = pd.DataFrame(grid_svc.cv_results_)\n",
    "df[['param_C','param_kernel','mean_train_score','mean_test_score']]"
   ]
  },
  {
   "cell_type": "code",
   "execution_count": 56,
   "metadata": {},
   "outputs": [],
   "source": [
    "y_svc_predict_train = grid_svc.predict(x_train_reduced)\n",
    "y_svc_predict = grid_svc.predict(x_test_reduced)"
   ]
  },
  {
   "cell_type": "code",
   "execution_count": 57,
   "metadata": {},
   "outputs": [
    {
     "name": "stdout",
     "output_type": "stream",
     "text": [
      "[[ 999    0]\n",
      " [   0 1061]]\n"
     ]
    }
   ],
   "source": [
    "svc_cmatrix = confusion_matrix(y_test, y_svc_predict)\n",
    "print (svc_cmatrix)"
   ]
  },
  {
   "cell_type": "code",
   "execution_count": 58,
   "metadata": {},
   "outputs": [],
   "source": [
    "report_table = report_table + [['SVC linear Kernalized : linear', 'C = 100', grid_svc.score(x_train_reduced, y_train), grid_svc.score(x_test_reduced, y_test), roc_auc_score(y_svc_predict_train, y_train), roc_auc_score(y_svc_predict, y_test)]]"
   ]
  },
  {
   "cell_type": "markdown",
   "metadata": {},
   "source": [
    "## svmpoly with pca"
   ]
  },
  {
   "cell_type": "code",
   "execution_count": 59,
   "metadata": {
    "scrolled": true
   },
   "outputs": [
    {
     "data": {
      "text/plain": [
       "GridSearchCV(cv=5, error_score=nan,\n",
       "             estimator=SVC(C=1.0, break_ties=False, cache_size=200,\n",
       "                           class_weight=None, coef0=0.0,\n",
       "                           decision_function_shape='ovr', degree=3,\n",
       "                           gamma='scale', kernel='rbf', max_iter=-1,\n",
       "                           probability=False, random_state=None, shrinking=True,\n",
       "                           tol=0.001, verbose=False),\n",
       "             iid='deprecated', n_jobs=-1, param_grid={'C': [0.01, 0.1, 1, 10]},\n",
       "             pre_dispatch='2*n_jobs', refit=True, return_train_score=False,\n",
       "             scoring='roc_auc', verbose=0)"
      ]
     },
     "execution_count": 59,
     "metadata": {},
     "output_type": "execute_result"
    }
   ],
   "source": [
    "svc_poly = svm.SVC(degree = 3) \n",
    "param_grid = {'C':[0.01, 0.1, 1, 10]}\n",
    "\n",
    "grid_svcPoly = GridSearchCV(svc_poly, param_grid = param_grid, cv = 5, n_jobs = -1, scoring='roc_auc')\n",
    "grid_svcPoly.fit(x_train_reduced, y_train)"
   ]
  },
  {
   "cell_type": "code",
   "execution_count": 60,
   "metadata": {},
   "outputs": [
    {
     "name": "stdout",
     "output_type": "stream",
     "text": [
      "Best cross-validation score: 1.00\n",
      "Best parameters term: {'C': 1}\n",
      "Training Score: 1.0000\n",
      "Testing Score: 1.0000\n"
     ]
    }
   ],
   "source": [
    "print(\"Best cross-validation score: {:.2f}\".format(grid_svcPoly.best_score_))\n",
    "print('Best parameters term:',grid_svcPoly.best_params_)\n",
    "print(\"Training Score: {:.4f}\".format(grid_svcPoly.score(x_train_reduced, y_train)))\n",
    "print(\"Testing Score: {:.4f}\".format(grid_svcPoly.score(x_test_reduced, y_test)))"
   ]
  },
  {
   "cell_type": "code",
   "execution_count": 61,
   "metadata": {
    "scrolled": true
   },
   "outputs": [
    {
     "data": {
      "text/html": [
       "<div>\n",
       "<style scoped>\n",
       "    .dataframe tbody tr th:only-of-type {\n",
       "        vertical-align: middle;\n",
       "    }\n",
       "\n",
       "    .dataframe tbody tr th {\n",
       "        vertical-align: top;\n",
       "    }\n",
       "\n",
       "    .dataframe thead th {\n",
       "        text-align: right;\n",
       "    }\n",
       "</style>\n",
       "<table border=\"1\" class=\"dataframe\">\n",
       "  <thead>\n",
       "    <tr style=\"text-align: right;\">\n",
       "      <th></th>\n",
       "      <th>param_C</th>\n",
       "      <th>mean_test_score</th>\n",
       "    </tr>\n",
       "  </thead>\n",
       "  <tbody>\n",
       "    <tr>\n",
       "      <th>0</th>\n",
       "      <td>0.01</td>\n",
       "      <td>0.994612</td>\n",
       "    </tr>\n",
       "    <tr>\n",
       "      <th>1</th>\n",
       "      <td>0.1</td>\n",
       "      <td>0.999939</td>\n",
       "    </tr>\n",
       "    <tr>\n",
       "      <th>2</th>\n",
       "      <td>1</td>\n",
       "      <td>1.000000</td>\n",
       "    </tr>\n",
       "    <tr>\n",
       "      <th>3</th>\n",
       "      <td>10</td>\n",
       "      <td>1.000000</td>\n",
       "    </tr>\n",
       "  </tbody>\n",
       "</table>\n",
       "</div>"
      ],
      "text/plain": [
       "  param_C  mean_test_score\n",
       "0    0.01         0.994612\n",
       "1     0.1         0.999939\n",
       "2       1         1.000000\n",
       "3      10         1.000000"
      ]
     },
     "execution_count": 61,
     "metadata": {},
     "output_type": "execute_result"
    }
   ],
   "source": [
    "df = pd.DataFrame(grid_svcPoly.cv_results_)\n",
    "df[['param_C','mean_test_score']]"
   ]
  },
  {
   "cell_type": "code",
   "execution_count": 62,
   "metadata": {},
   "outputs": [],
   "source": [
    "y_svcPoly_predict_train = grid_svcPoly.predict(x_train_reduced)\n",
    "y_svcPoly_predict = grid_svcPoly.predict(x_test_reduced)"
   ]
  },
  {
   "cell_type": "code",
   "execution_count": 63,
   "metadata": {},
   "outputs": [
    {
     "name": "stdout",
     "output_type": "stream",
     "text": [
      "[[ 999    0]\n",
      " [   0 1061]]\n"
     ]
    }
   ],
   "source": [
    "svcPoly_cmatrix = confusion_matrix(y_test, y_svcPoly_predict)\n",
    "print (svcPoly_cmatrix)"
   ]
  },
  {
   "cell_type": "code",
   "execution_count": 64,
   "metadata": {},
   "outputs": [],
   "source": [
    "report_table = report_table + [['SVC Poly', 'C = 1', grid_svcPoly.score(x_train_reduced, y_train), grid_svcPoly.score(x_test_reduced, y_test), roc_auc_score(y_svcPoly_predict_train, y_train), roc_auc_score(y_svcPoly_predict, y_test)]]"
   ]
  },
  {
   "cell_type": "markdown",
   "metadata": {},
   "source": [
    "## linear svm  with pca"
   ]
  },
  {
   "cell_type": "code",
   "execution_count": 65,
   "metadata": {},
   "outputs": [],
   "source": [
    "from sklearn.svm import LinearSVC\n",
    "\n",
    "svc_lin = LinearSVC()\n",
    "param_grid = {'C':[0.001, 0.01, 0.1, 1, 10, 100]}\n",
    "\n",
    "grid_svc_lin = GridSearchCV(svc_lin, param_grid, cv = 5, scoring='roc_auc', return_train_score=True)"
   ]
  },
  {
   "cell_type": "code",
   "execution_count": 66,
   "metadata": {
    "scrolled": true
   },
   "outputs": [
    {
     "name": "stderr",
     "output_type": "stream",
     "text": [
      "C:\\Users\\ray19\\anaconda3\\lib\\site-packages\\sklearn\\svm\\_base.py:947: ConvergenceWarning: Liblinear failed to converge, increase the number of iterations.\n",
      "  \"the number of iterations.\", ConvergenceWarning)\n",
      "C:\\Users\\ray19\\anaconda3\\lib\\site-packages\\sklearn\\svm\\_base.py:947: ConvergenceWarning: Liblinear failed to converge, increase the number of iterations.\n",
      "  \"the number of iterations.\", ConvergenceWarning)\n",
      "C:\\Users\\ray19\\anaconda3\\lib\\site-packages\\sklearn\\svm\\_base.py:947: ConvergenceWarning: Liblinear failed to converge, increase the number of iterations.\n",
      "  \"the number of iterations.\", ConvergenceWarning)\n",
      "C:\\Users\\ray19\\anaconda3\\lib\\site-packages\\sklearn\\svm\\_base.py:947: ConvergenceWarning: Liblinear failed to converge, increase the number of iterations.\n",
      "  \"the number of iterations.\", ConvergenceWarning)\n",
      "C:\\Users\\ray19\\anaconda3\\lib\\site-packages\\sklearn\\svm\\_base.py:947: ConvergenceWarning: Liblinear failed to converge, increase the number of iterations.\n",
      "  \"the number of iterations.\", ConvergenceWarning)\n",
      "C:\\Users\\ray19\\anaconda3\\lib\\site-packages\\sklearn\\svm\\_base.py:947: ConvergenceWarning: Liblinear failed to converge, increase the number of iterations.\n",
      "  \"the number of iterations.\", ConvergenceWarning)\n",
      "C:\\Users\\ray19\\anaconda3\\lib\\site-packages\\sklearn\\svm\\_base.py:947: ConvergenceWarning: Liblinear failed to converge, increase the number of iterations.\n",
      "  \"the number of iterations.\", ConvergenceWarning)\n",
      "C:\\Users\\ray19\\anaconda3\\lib\\site-packages\\sklearn\\svm\\_base.py:947: ConvergenceWarning: Liblinear failed to converge, increase the number of iterations.\n",
      "  \"the number of iterations.\", ConvergenceWarning)\n",
      "C:\\Users\\ray19\\anaconda3\\lib\\site-packages\\sklearn\\svm\\_base.py:947: ConvergenceWarning: Liblinear failed to converge, increase the number of iterations.\n",
      "  \"the number of iterations.\", ConvergenceWarning)\n",
      "C:\\Users\\ray19\\anaconda3\\lib\\site-packages\\sklearn\\svm\\_base.py:947: ConvergenceWarning: Liblinear failed to converge, increase the number of iterations.\n",
      "  \"the number of iterations.\", ConvergenceWarning)\n",
      "C:\\Users\\ray19\\anaconda3\\lib\\site-packages\\sklearn\\svm\\_base.py:947: ConvergenceWarning: Liblinear failed to converge, increase the number of iterations.\n",
      "  \"the number of iterations.\", ConvergenceWarning)\n"
     ]
    },
    {
     "data": {
      "text/plain": [
       "GridSearchCV(cv=5, error_score=nan,\n",
       "             estimator=LinearSVC(C=1.0, class_weight=None, dual=True,\n",
       "                                 fit_intercept=True, intercept_scaling=1,\n",
       "                                 loss='squared_hinge', max_iter=1000,\n",
       "                                 multi_class='ovr', penalty='l2',\n",
       "                                 random_state=None, tol=0.0001, verbose=0),\n",
       "             iid='deprecated', n_jobs=None,\n",
       "             param_grid={'C': [0.001, 0.01, 0.1, 1, 10, 100]},\n",
       "             pre_dispatch='2*n_jobs', refit=True, return_train_score=True,\n",
       "             scoring='roc_auc', verbose=0)"
      ]
     },
     "execution_count": 66,
     "metadata": {},
     "output_type": "execute_result"
    }
   ],
   "source": [
    "grid_svc_lin.fit(x_train_reduced, y_train)"
   ]
  },
  {
   "cell_type": "code",
   "execution_count": 67,
   "metadata": {},
   "outputs": [],
   "source": [
    "y_svc_lin_predict_train = grid_svc_lin.predict(x_train_reduced)\n",
    "y_svc_lin_predict = grid_svc_lin.predict(x_test_reduced)"
   ]
  },
  {
   "cell_type": "code",
   "execution_count": 68,
   "metadata": {},
   "outputs": [
    {
     "data": {
      "text/html": [
       "<div>\n",
       "<style scoped>\n",
       "    .dataframe tbody tr th:only-of-type {\n",
       "        vertical-align: middle;\n",
       "    }\n",
       "\n",
       "    .dataframe tbody tr th {\n",
       "        vertical-align: top;\n",
       "    }\n",
       "\n",
       "    .dataframe thead th {\n",
       "        text-align: right;\n",
       "    }\n",
       "</style>\n",
       "<table border=\"1\" class=\"dataframe\">\n",
       "  <thead>\n",
       "    <tr style=\"text-align: right;\">\n",
       "      <th></th>\n",
       "      <th>param_C</th>\n",
       "      <th>mean_test_score</th>\n",
       "    </tr>\n",
       "  </thead>\n",
       "  <tbody>\n",
       "    <tr>\n",
       "      <th>0</th>\n",
       "      <td>0.001</td>\n",
       "      <td>0.995402</td>\n",
       "    </tr>\n",
       "    <tr>\n",
       "      <th>1</th>\n",
       "      <td>0.01</td>\n",
       "      <td>0.998200</td>\n",
       "    </tr>\n",
       "    <tr>\n",
       "      <th>2</th>\n",
       "      <td>0.1</td>\n",
       "      <td>0.999379</td>\n",
       "    </tr>\n",
       "    <tr>\n",
       "      <th>3</th>\n",
       "      <td>1</td>\n",
       "      <td>0.999995</td>\n",
       "    </tr>\n",
       "    <tr>\n",
       "      <th>4</th>\n",
       "      <td>10</td>\n",
       "      <td>1.000000</td>\n",
       "    </tr>\n",
       "    <tr>\n",
       "      <th>5</th>\n",
       "      <td>100</td>\n",
       "      <td>1.000000</td>\n",
       "    </tr>\n",
       "  </tbody>\n",
       "</table>\n",
       "</div>"
      ],
      "text/plain": [
       "  param_C  mean_test_score\n",
       "0   0.001         0.995402\n",
       "1    0.01         0.998200\n",
       "2     0.1         0.999379\n",
       "3       1         0.999995\n",
       "4      10         1.000000\n",
       "5     100         1.000000"
      ]
     },
     "execution_count": 68,
     "metadata": {},
     "output_type": "execute_result"
    }
   ],
   "source": [
    "df = pd.DataFrame(grid_svc_lin.cv_results_)\n",
    "df[['param_C','mean_test_score']]"
   ]
  },
  {
   "cell_type": "code",
   "execution_count": 69,
   "metadata": {},
   "outputs": [
    {
     "name": "stdout",
     "output_type": "stream",
     "text": [
      "[[ 999    0]\n",
      " [   0 1061]]\n"
     ]
    }
   ],
   "source": [
    "svc_lin_cmatrix = confusion_matrix(y_test, y_svc_lin_predict)\n",
    "print (svc_lin_cmatrix)"
   ]
  },
  {
   "cell_type": "code",
   "execution_count": 70,
   "metadata": {},
   "outputs": [],
   "source": [
    "report_table = report_table + [['LinearSVC', 'C = 10', grid_svc_lin.score(x_train_reduced, y_train), grid_svc_lin.score(x_test_reduced, y_test), roc_auc_score(y_svc_lin_predict_train, y_train), roc_auc_score(y_svc_lin_predict, y_test)]]"
   ]
  },
  {
   "cell_type": "markdown",
   "metadata": {},
   "source": [
    "## decision tree with pca"
   ]
  },
  {
   "cell_type": "code",
   "execution_count": 71,
   "metadata": {},
   "outputs": [
    {
     "data": {
      "text/plain": [
       "GridSearchCV(cv=5, error_score=nan,\n",
       "             estimator=DecisionTreeClassifier(ccp_alpha=0.0, class_weight=None,\n",
       "                                              criterion='gini', max_depth=None,\n",
       "                                              max_features=None,\n",
       "                                              max_leaf_nodes=None,\n",
       "                                              min_impurity_decrease=0.0,\n",
       "                                              min_impurity_split=None,\n",
       "                                              min_samples_leaf=1,\n",
       "                                              min_samples_split=2,\n",
       "                                              min_weight_fraction_leaf=0.0,\n",
       "                                              presort='deprecated',\n",
       "                                              random_state=None,\n",
       "                                              splitter='best'),\n",
       "             iid='deprecated', n_jobs=None,\n",
       "             param_grid={'max_depth': [1, 2, 3, 4, 5, 6]},\n",
       "             pre_dispatch='2*n_jobs', refit=True, return_train_score=True,\n",
       "             scoring='roc_auc', verbose=0)"
      ]
     },
     "execution_count": 71,
     "metadata": {},
     "output_type": "execute_result"
    }
   ],
   "source": [
    "from sklearn.tree import DecisionTreeClassifier\n",
    "\n",
    "param_grid = {'max_depth':[1, 2, 3, 4, 5, 6]}\n",
    "dtree = DecisionTreeClassifier()\n",
    "\n",
    "grid_tree = GridSearchCV(dtree, param_grid, cv = 5, scoring='roc_auc', return_train_score=True)\n",
    "grid_tree.fit(x_train_reduced, y_train)"
   ]
  },
  {
   "cell_type": "code",
   "execution_count": 72,
   "metadata": {},
   "outputs": [
    {
     "data": {
      "text/html": [
       "<div>\n",
       "<style scoped>\n",
       "    .dataframe tbody tr th:only-of-type {\n",
       "        vertical-align: middle;\n",
       "    }\n",
       "\n",
       "    .dataframe tbody tr th {\n",
       "        vertical-align: top;\n",
       "    }\n",
       "\n",
       "    .dataframe thead th {\n",
       "        text-align: right;\n",
       "    }\n",
       "</style>\n",
       "<table border=\"1\" class=\"dataframe\">\n",
       "  <thead>\n",
       "    <tr style=\"text-align: right;\">\n",
       "      <th></th>\n",
       "      <th>params</th>\n",
       "      <th>mean_test_score</th>\n",
       "    </tr>\n",
       "  </thead>\n",
       "  <tbody>\n",
       "    <tr>\n",
       "      <th>0</th>\n",
       "      <td>{'max_depth': 1}</td>\n",
       "      <td>0.890702</td>\n",
       "    </tr>\n",
       "    <tr>\n",
       "      <th>1</th>\n",
       "      <td>{'max_depth': 2}</td>\n",
       "      <td>0.977584</td>\n",
       "    </tr>\n",
       "    <tr>\n",
       "      <th>2</th>\n",
       "      <td>{'max_depth': 3}</td>\n",
       "      <td>0.988726</td>\n",
       "    </tr>\n",
       "    <tr>\n",
       "      <th>3</th>\n",
       "      <td>{'max_depth': 4}</td>\n",
       "      <td>0.992081</td>\n",
       "    </tr>\n",
       "    <tr>\n",
       "      <th>4</th>\n",
       "      <td>{'max_depth': 5}</td>\n",
       "      <td>0.992624</td>\n",
       "    </tr>\n",
       "    <tr>\n",
       "      <th>5</th>\n",
       "      <td>{'max_depth': 6}</td>\n",
       "      <td>0.992854</td>\n",
       "    </tr>\n",
       "  </tbody>\n",
       "</table>\n",
       "</div>"
      ],
      "text/plain": [
       "             params  mean_test_score\n",
       "0  {'max_depth': 1}         0.890702\n",
       "1  {'max_depth': 2}         0.977584\n",
       "2  {'max_depth': 3}         0.988726\n",
       "3  {'max_depth': 4}         0.992081\n",
       "4  {'max_depth': 5}         0.992624\n",
       "5  {'max_depth': 6}         0.992854"
      ]
     },
     "execution_count": 72,
     "metadata": {},
     "output_type": "execute_result"
    }
   ],
   "source": [
    "df = pd.DataFrame(grid_tree.cv_results_)\n",
    "df[['params','mean_test_score']]"
   ]
  },
  {
   "cell_type": "code",
   "execution_count": 73,
   "metadata": {},
   "outputs": [],
   "source": [
    "y_dtree_predict_train = grid_tree.predict(x_train_reduced)\n",
    "y_dtree_predict = grid_tree.predict(x_test_reduced)"
   ]
  },
  {
   "cell_type": "code",
   "execution_count": 74,
   "metadata": {},
   "outputs": [
    {
     "name": "stdout",
     "output_type": "stream",
     "text": [
      "[[ 984   15]\n",
      " [   0 1061]]\n"
     ]
    }
   ],
   "source": [
    "dtree_cmatrix = confusion_matrix(y_test, y_dtree_predict)\n",
    "print (dtree_cmatrix)"
   ]
  },
  {
   "cell_type": "code",
   "execution_count": 75,
   "metadata": {},
   "outputs": [],
   "source": [
    "report_table = report_table + [['Decision Tree', 'max_depth = 6', grid_tree.score(x_train_reduced, y_train), grid_tree.score(x_test_reduced, y_test), roc_auc_score(y_dtree_predict_train, y_train), roc_auc_score(y_dtree_predict, y_test)]]"
   ]
  },
  {
   "cell_type": "code",
   "execution_count": 76,
   "metadata": {},
   "outputs": [],
   "source": [
    "report = pd.DataFrame(report_table,columns = ['Model name', 'Model parameter', 'Train accuracy(pca)', 'Test accuracy(pca)', 'Train auc score(pca)', 'Test auc score(pca)'])"
   ]
  },
  {
   "cell_type": "code",
   "execution_count": 77,
   "metadata": {},
   "outputs": [],
   "source": [
    "df = pd.read_csv(\"project1_result.csv\")"
   ]
  },
  {
   "cell_type": "markdown",
   "metadata": {},
   "source": [
    "# Comparison of models "
   ]
  },
  {
   "cell_type": "markdown",
   "metadata": {},
   "source": [
    "## without pca"
   ]
  },
  {
   "cell_type": "code",
   "execution_count": 78,
   "metadata": {
    "scrolled": true
   },
   "outputs": [
    {
     "data": {
      "text/html": [
       "<div>\n",
       "<style scoped>\n",
       "    .dataframe tbody tr th:only-of-type {\n",
       "        vertical-align: middle;\n",
       "    }\n",
       "\n",
       "    .dataframe tbody tr th {\n",
       "        vertical-align: top;\n",
       "    }\n",
       "\n",
       "    .dataframe thead th {\n",
       "        text-align: right;\n",
       "    }\n",
       "</style>\n",
       "<table border=\"1\" class=\"dataframe\">\n",
       "  <thead>\n",
       "    <tr style=\"text-align: right;\">\n",
       "      <th></th>\n",
       "      <th>Model name</th>\n",
       "      <th>Model parameter</th>\n",
       "      <th>Train accuracy</th>\n",
       "      <th>Test accuracy</th>\n",
       "      <th>Train auc score</th>\n",
       "      <th>Test auc score</th>\n",
       "    </tr>\n",
       "  </thead>\n",
       "  <tbody>\n",
       "    <tr>\n",
       "      <th>0</th>\n",
       "      <td>knn</td>\n",
       "      <td>k = 15</td>\n",
       "      <td>1.000000</td>\n",
       "      <td>1.000000</td>\n",
       "      <td>0.999537</td>\n",
       "      <td>0.997655</td>\n",
       "    </tr>\n",
       "    <tr>\n",
       "      <th>1</th>\n",
       "      <td>Logistic</td>\n",
       "      <td>C = 1</td>\n",
       "      <td>0.999761</td>\n",
       "      <td>0.999029</td>\n",
       "      <td>0.999768</td>\n",
       "      <td>0.999059</td>\n",
       "    </tr>\n",
       "    <tr>\n",
       "      <th>2</th>\n",
       "      <td>SVC linear Kernalized</td>\n",
       "      <td>C = 1</td>\n",
       "      <td>1.000000</td>\n",
       "      <td>1.000000</td>\n",
       "      <td>1.000000</td>\n",
       "      <td>1.000000</td>\n",
       "    </tr>\n",
       "    <tr>\n",
       "      <th>3</th>\n",
       "      <td>SVC Poly</td>\n",
       "      <td>C = 1</td>\n",
       "      <td>1.000000</td>\n",
       "      <td>1.000000</td>\n",
       "      <td>1.000000</td>\n",
       "      <td>1.000000</td>\n",
       "    </tr>\n",
       "    <tr>\n",
       "      <th>4</th>\n",
       "      <td>LinearSVC</td>\n",
       "      <td>C = 0.01</td>\n",
       "      <td>0.999940</td>\n",
       "      <td>0.999870</td>\n",
       "      <td>0.998383</td>\n",
       "      <td>0.996258</td>\n",
       "    </tr>\n",
       "    <tr>\n",
       "      <th>5</th>\n",
       "      <td>Decision Tree</td>\n",
       "      <td>max_depth = 6</td>\n",
       "      <td>0.999597</td>\n",
       "      <td>0.998337</td>\n",
       "      <td>0.999075</td>\n",
       "      <td>0.996723</td>\n",
       "    </tr>\n",
       "  </tbody>\n",
       "</table>\n",
       "</div>"
      ],
      "text/plain": [
       "              Model name Model parameter  Train accuracy  Test accuracy  \\\n",
       "0                    knn          k = 15        1.000000       1.000000   \n",
       "1               Logistic           C = 1        0.999761       0.999029   \n",
       "2  SVC linear Kernalized           C = 1        1.000000       1.000000   \n",
       "3               SVC Poly           C = 1        1.000000       1.000000   \n",
       "4              LinearSVC        C = 0.01        0.999940       0.999870   \n",
       "5          Decision Tree   max_depth = 6        0.999597       0.998337   \n",
       "\n",
       "   Train auc score  Test auc score  \n",
       "0         0.999537        0.997655  \n",
       "1         0.999768        0.999059  \n",
       "2         1.000000        1.000000  \n",
       "3         1.000000        1.000000  \n",
       "4         0.998383        0.996258  \n",
       "5         0.999075        0.996723  "
      ]
     },
     "execution_count": 78,
     "metadata": {},
     "output_type": "execute_result"
    }
   ],
   "source": [
    "df"
   ]
  },
  {
   "cell_type": "markdown",
   "metadata": {},
   "source": [
    "## with pca"
   ]
  },
  {
   "cell_type": "code",
   "execution_count": 79,
   "metadata": {
    "scrolled": true
   },
   "outputs": [
    {
     "data": {
      "text/html": [
       "<div>\n",
       "<style scoped>\n",
       "    .dataframe tbody tr th:only-of-type {\n",
       "        vertical-align: middle;\n",
       "    }\n",
       "\n",
       "    .dataframe tbody tr th {\n",
       "        vertical-align: top;\n",
       "    }\n",
       "\n",
       "    .dataframe thead th {\n",
       "        text-align: right;\n",
       "    }\n",
       "</style>\n",
       "<table border=\"1\" class=\"dataframe\">\n",
       "  <thead>\n",
       "    <tr style=\"text-align: right;\">\n",
       "      <th></th>\n",
       "      <th>Model name</th>\n",
       "      <th>Model parameter</th>\n",
       "      <th>Train accuracy(pca)</th>\n",
       "      <th>Test accuracy(pca)</th>\n",
       "      <th>Train auc score(pca)</th>\n",
       "      <th>Test auc score(pca)</th>\n",
       "    </tr>\n",
       "  </thead>\n",
       "  <tbody>\n",
       "    <tr>\n",
       "      <th>0</th>\n",
       "      <td>knn</td>\n",
       "      <td>k = 10</td>\n",
       "      <td>0.999999</td>\n",
       "      <td>1.000000</td>\n",
       "      <td>0.999306</td>\n",
       "      <td>0.997655</td>\n",
       "    </tr>\n",
       "    <tr>\n",
       "      <th>1</th>\n",
       "      <td>Logistic</td>\n",
       "      <td>C = 100</td>\n",
       "      <td>1.000000</td>\n",
       "      <td>1.000000</td>\n",
       "      <td>1.000000</td>\n",
       "      <td>1.000000</td>\n",
       "    </tr>\n",
       "    <tr>\n",
       "      <th>2</th>\n",
       "      <td>SVC linear Kernalized : linear</td>\n",
       "      <td>C = 100</td>\n",
       "      <td>1.000000</td>\n",
       "      <td>1.000000</td>\n",
       "      <td>1.000000</td>\n",
       "      <td>1.000000</td>\n",
       "    </tr>\n",
       "    <tr>\n",
       "      <th>3</th>\n",
       "      <td>SVC Poly</td>\n",
       "      <td>C = 1</td>\n",
       "      <td>1.000000</td>\n",
       "      <td>1.000000</td>\n",
       "      <td>1.000000</td>\n",
       "      <td>1.000000</td>\n",
       "    </tr>\n",
       "    <tr>\n",
       "      <th>4</th>\n",
       "      <td>LinearSVC</td>\n",
       "      <td>C = 10</td>\n",
       "      <td>1.000000</td>\n",
       "      <td>1.000000</td>\n",
       "      <td>1.000000</td>\n",
       "      <td>1.000000</td>\n",
       "    </tr>\n",
       "    <tr>\n",
       "      <th>5</th>\n",
       "      <td>Decision Tree</td>\n",
       "      <td>max_depth = 6</td>\n",
       "      <td>0.997970</td>\n",
       "      <td>0.991451</td>\n",
       "      <td>0.997923</td>\n",
       "      <td>0.993030</td>\n",
       "    </tr>\n",
       "  </tbody>\n",
       "</table>\n",
       "</div>"
      ],
      "text/plain": [
       "                       Model name Model parameter  Train accuracy(pca)  \\\n",
       "0                             knn          k = 10             0.999999   \n",
       "1                        Logistic         C = 100             1.000000   \n",
       "2  SVC linear Kernalized : linear         C = 100             1.000000   \n",
       "3                        SVC Poly           C = 1             1.000000   \n",
       "4                       LinearSVC          C = 10             1.000000   \n",
       "5                   Decision Tree   max_depth = 6             0.997970   \n",
       "\n",
       "   Test accuracy(pca)  Train auc score(pca)  Test auc score(pca)  \n",
       "0            1.000000              0.999306             0.997655  \n",
       "1            1.000000              1.000000             1.000000  \n",
       "2            1.000000              1.000000             1.000000  \n",
       "3            1.000000              1.000000             1.000000  \n",
       "4            1.000000              1.000000             1.000000  \n",
       "5            0.991451              0.997923             0.993030  "
      ]
     },
     "execution_count": 79,
     "metadata": {},
     "output_type": "execute_result"
    }
   ],
   "source": [
    "report"
   ]
  },
  {
   "cell_type": "markdown",
   "metadata": {},
   "source": [
    "as we can see from above tables that most of models have improved accuracy with pca except decision tree and knn classifier"
   ]
  },
  {
   "cell_type": "markdown",
   "metadata": {},
   "source": [
    "# neural network"
   ]
  },
  {
   "cell_type": "code",
   "execution_count": 80,
   "metadata": {},
   "outputs": [
    {
     "name": "stderr",
     "output_type": "stream",
     "text": [
      "Using TensorFlow backend.\n",
      "C:\\Users\\ray19\\anaconda3\\lib\\site-packages\\tensorflow\\python\\framework\\dtypes.py:516: FutureWarning: Passing (type, 1) or '1type' as a synonym of type is deprecated; in a future version of numpy, it will be understood as (type, (1,)) / '(1,)type'.\n",
      "  _np_qint8 = np.dtype([(\"qint8\", np.int8, 1)])\n",
      "C:\\Users\\ray19\\anaconda3\\lib\\site-packages\\tensorflow\\python\\framework\\dtypes.py:517: FutureWarning: Passing (type, 1) or '1type' as a synonym of type is deprecated; in a future version of numpy, it will be understood as (type, (1,)) / '(1,)type'.\n",
      "  _np_quint8 = np.dtype([(\"quint8\", np.uint8, 1)])\n",
      "C:\\Users\\ray19\\anaconda3\\lib\\site-packages\\tensorflow\\python\\framework\\dtypes.py:518: FutureWarning: Passing (type, 1) or '1type' as a synonym of type is deprecated; in a future version of numpy, it will be understood as (type, (1,)) / '(1,)type'.\n",
      "  _np_qint16 = np.dtype([(\"qint16\", np.int16, 1)])\n",
      "C:\\Users\\ray19\\anaconda3\\lib\\site-packages\\tensorflow\\python\\framework\\dtypes.py:519: FutureWarning: Passing (type, 1) or '1type' as a synonym of type is deprecated; in a future version of numpy, it will be understood as (type, (1,)) / '(1,)type'.\n",
      "  _np_quint16 = np.dtype([(\"quint16\", np.uint16, 1)])\n",
      "C:\\Users\\ray19\\anaconda3\\lib\\site-packages\\tensorflow\\python\\framework\\dtypes.py:520: FutureWarning: Passing (type, 1) or '1type' as a synonym of type is deprecated; in a future version of numpy, it will be understood as (type, (1,)) / '(1,)type'.\n",
      "  _np_qint32 = np.dtype([(\"qint32\", np.int32, 1)])\n",
      "C:\\Users\\ray19\\anaconda3\\lib\\site-packages\\tensorflow\\python\\framework\\dtypes.py:525: FutureWarning: Passing (type, 1) or '1type' as a synonym of type is deprecated; in a future version of numpy, it will be understood as (type, (1,)) / '(1,)type'.\n",
      "  np_resource = np.dtype([(\"resource\", np.ubyte, 1)])\n",
      "C:\\Users\\ray19\\anaconda3\\lib\\site-packages\\tensorboard\\compat\\tensorflow_stub\\dtypes.py:541: FutureWarning: Passing (type, 1) or '1type' as a synonym of type is deprecated; in a future version of numpy, it will be understood as (type, (1,)) / '(1,)type'.\n",
      "  _np_qint8 = np.dtype([(\"qint8\", np.int8, 1)])\n",
      "C:\\Users\\ray19\\anaconda3\\lib\\site-packages\\tensorboard\\compat\\tensorflow_stub\\dtypes.py:542: FutureWarning: Passing (type, 1) or '1type' as a synonym of type is deprecated; in a future version of numpy, it will be understood as (type, (1,)) / '(1,)type'.\n",
      "  _np_quint8 = np.dtype([(\"quint8\", np.uint8, 1)])\n",
      "C:\\Users\\ray19\\anaconda3\\lib\\site-packages\\tensorboard\\compat\\tensorflow_stub\\dtypes.py:543: FutureWarning: Passing (type, 1) or '1type' as a synonym of type is deprecated; in a future version of numpy, it will be understood as (type, (1,)) / '(1,)type'.\n",
      "  _np_qint16 = np.dtype([(\"qint16\", np.int16, 1)])\n",
      "C:\\Users\\ray19\\anaconda3\\lib\\site-packages\\tensorboard\\compat\\tensorflow_stub\\dtypes.py:544: FutureWarning: Passing (type, 1) or '1type' as a synonym of type is deprecated; in a future version of numpy, it will be understood as (type, (1,)) / '(1,)type'.\n",
      "  _np_quint16 = np.dtype([(\"quint16\", np.uint16, 1)])\n",
      "C:\\Users\\ray19\\anaconda3\\lib\\site-packages\\tensorboard\\compat\\tensorflow_stub\\dtypes.py:545: FutureWarning: Passing (type, 1) or '1type' as a synonym of type is deprecated; in a future version of numpy, it will be understood as (type, (1,)) / '(1,)type'.\n",
      "  _np_qint32 = np.dtype([(\"qint32\", np.int32, 1)])\n",
      "C:\\Users\\ray19\\anaconda3\\lib\\site-packages\\tensorboard\\compat\\tensorflow_stub\\dtypes.py:550: FutureWarning: Passing (type, 1) or '1type' as a synonym of type is deprecated; in a future version of numpy, it will be understood as (type, (1,)) / '(1,)type'.\n",
      "  np_resource = np.dtype([(\"resource\", np.ubyte, 1)])\n"
     ]
    }
   ],
   "source": [
    "from keras.models import Sequential\n",
    "from keras.layers import Dense\n",
    "import numpy"
   ]
  },
  {
   "cell_type": "code",
   "execution_count": 81,
   "metadata": {},
   "outputs": [],
   "source": [
    "def create_model():\n",
    "    #create model\n",
    "    model = Sequential()\n",
    "    model.add(Dense(12, input_dim=117, activation='relu'))\n",
    "    model.add(Dense(8, activation='relu'))\n",
    "    model.add(Dense(1, activation='sigmoid'))\n",
    "    #compile model\n",
    "    model.compile(loss='binary_crossentropy', optimizer='adam', metrics=['accuracy'])\n",
    "    return model"
   ]
  },
  {
   "cell_type": "code",
   "execution_count": 82,
   "metadata": {},
   "outputs": [],
   "source": [
    "from keras.wrappers.scikit_learn import KerasClassifier\n",
    "model = KerasClassifier(build_fn = create_model, verbose = 0)\n",
    "\n",
    "param_grid = {'batch_size':[10,20,30,40] , 'epochs':[10, 50, 100]}\n",
    "grid_search = GridSearchCV(estimator= model, param_grid = param_grid, cv = 5)"
   ]
  },
  {
   "cell_type": "code",
   "execution_count": 83,
   "metadata": {},
   "outputs": [
    {
     "name": "stdout",
     "output_type": "stream",
     "text": [
      "WARNING:tensorflow:From C:\\Users\\ray19\\anaconda3\\lib\\site-packages\\tensorflow\\python\\ops\\nn_impl.py:180: add_dispatch_support.<locals>.wrapper (from tensorflow.python.ops.array_ops) is deprecated and will be removed in a future version.\n",
      "Instructions for updating:\n",
      "Use tf.where in 2.0, which has the same broadcast rule as np.where\n",
      "WARNING:tensorflow:From C:\\Users\\ray19\\anaconda3\\lib\\site-packages\\keras\\backend\\tensorflow_backend.py:422: The name tf.global_variables is deprecated. Please use tf.compat.v1.global_variables instead.\n",
      "\n"
     ]
    }
   ],
   "source": [
    "grid_search_result = grid_search.fit(X, y)"
   ]
  },
  {
   "cell_type": "code",
   "execution_count": 116,
   "metadata": {},
   "outputs": [
    {
     "data": {
      "text/html": [
       "<div>\n",
       "<style scoped>\n",
       "    .dataframe tbody tr th:only-of-type {\n",
       "        vertical-align: middle;\n",
       "    }\n",
       "\n",
       "    .dataframe tbody tr th {\n",
       "        vertical-align: top;\n",
       "    }\n",
       "\n",
       "    .dataframe thead th {\n",
       "        text-align: right;\n",
       "    }\n",
       "</style>\n",
       "<table border=\"1\" class=\"dataframe\">\n",
       "  <thead>\n",
       "    <tr style=\"text-align: right;\">\n",
       "      <th></th>\n",
       "      <th>param_batch_size</th>\n",
       "      <th>param_epochs</th>\n",
       "      <th>split0_test_score</th>\n",
       "      <th>split1_test_score</th>\n",
       "      <th>split2_test_score</th>\n",
       "      <th>split3_test_score</th>\n",
       "      <th>split4_test_score</th>\n",
       "      <th>mean_test_score</th>\n",
       "      <th>std_test_score</th>\n",
       "    </tr>\n",
       "  </thead>\n",
       "  <tbody>\n",
       "    <tr>\n",
       "      <th>0</th>\n",
       "      <td>10</td>\n",
       "      <td>10</td>\n",
       "      <td>0.998397</td>\n",
       "      <td>1.0</td>\n",
       "      <td>1.0</td>\n",
       "      <td>1.000000</td>\n",
       "      <td>0.975160</td>\n",
       "      <td>0.994712</td>\n",
       "      <td>0.009795</td>\n",
       "    </tr>\n",
       "    <tr>\n",
       "      <th>1</th>\n",
       "      <td>10</td>\n",
       "      <td>50</td>\n",
       "      <td>1.000000</td>\n",
       "      <td>1.0</td>\n",
       "      <td>1.0</td>\n",
       "      <td>1.000000</td>\n",
       "      <td>0.990385</td>\n",
       "      <td>0.998077</td>\n",
       "      <td>0.003846</td>\n",
       "    </tr>\n",
       "    <tr>\n",
       "      <th>2</th>\n",
       "      <td>10</td>\n",
       "      <td>100</td>\n",
       "      <td>1.000000</td>\n",
       "      <td>1.0</td>\n",
       "      <td>1.0</td>\n",
       "      <td>1.000000</td>\n",
       "      <td>0.964744</td>\n",
       "      <td>0.992949</td>\n",
       "      <td>0.014103</td>\n",
       "    </tr>\n",
       "    <tr>\n",
       "      <th>3</th>\n",
       "      <td>20</td>\n",
       "      <td>10</td>\n",
       "      <td>0.993590</td>\n",
       "      <td>1.0</td>\n",
       "      <td>1.0</td>\n",
       "      <td>1.000000</td>\n",
       "      <td>0.980769</td>\n",
       "      <td>0.994872</td>\n",
       "      <td>0.007476</td>\n",
       "    </tr>\n",
       "    <tr>\n",
       "      <th>4</th>\n",
       "      <td>20</td>\n",
       "      <td>50</td>\n",
       "      <td>1.000000</td>\n",
       "      <td>1.0</td>\n",
       "      <td>1.0</td>\n",
       "      <td>1.000000</td>\n",
       "      <td>0.978365</td>\n",
       "      <td>0.995673</td>\n",
       "      <td>0.008654</td>\n",
       "    </tr>\n",
       "    <tr>\n",
       "      <th>5</th>\n",
       "      <td>20</td>\n",
       "      <td>100</td>\n",
       "      <td>1.000000</td>\n",
       "      <td>1.0</td>\n",
       "      <td>1.0</td>\n",
       "      <td>1.000000</td>\n",
       "      <td>0.987179</td>\n",
       "      <td>0.997436</td>\n",
       "      <td>0.005128</td>\n",
       "    </tr>\n",
       "    <tr>\n",
       "      <th>6</th>\n",
       "      <td>30</td>\n",
       "      <td>10</td>\n",
       "      <td>0.991987</td>\n",
       "      <td>1.0</td>\n",
       "      <td>1.0</td>\n",
       "      <td>0.998397</td>\n",
       "      <td>0.981571</td>\n",
       "      <td>0.994391</td>\n",
       "      <td>0.007059</td>\n",
       "    </tr>\n",
       "    <tr>\n",
       "      <th>7</th>\n",
       "      <td>30</td>\n",
       "      <td>50</td>\n",
       "      <td>1.000000</td>\n",
       "      <td>1.0</td>\n",
       "      <td>1.0</td>\n",
       "      <td>1.000000</td>\n",
       "      <td>0.975160</td>\n",
       "      <td>0.995032</td>\n",
       "      <td>0.009936</td>\n",
       "    </tr>\n",
       "    <tr>\n",
       "      <th>8</th>\n",
       "      <td>30</td>\n",
       "      <td>100</td>\n",
       "      <td>1.000000</td>\n",
       "      <td>1.0</td>\n",
       "      <td>1.0</td>\n",
       "      <td>1.000000</td>\n",
       "      <td>0.977564</td>\n",
       "      <td>0.995513</td>\n",
       "      <td>0.008974</td>\n",
       "    </tr>\n",
       "    <tr>\n",
       "      <th>9</th>\n",
       "      <td>40</td>\n",
       "      <td>10</td>\n",
       "      <td>0.994391</td>\n",
       "      <td>1.0</td>\n",
       "      <td>1.0</td>\n",
       "      <td>0.995994</td>\n",
       "      <td>0.978365</td>\n",
       "      <td>0.993750</td>\n",
       "      <td>0.008003</td>\n",
       "    </tr>\n",
       "    <tr>\n",
       "      <th>10</th>\n",
       "      <td>40</td>\n",
       "      <td>50</td>\n",
       "      <td>1.000000</td>\n",
       "      <td>1.0</td>\n",
       "      <td>1.0</td>\n",
       "      <td>1.000000</td>\n",
       "      <td>0.975962</td>\n",
       "      <td>0.995192</td>\n",
       "      <td>0.009615</td>\n",
       "    </tr>\n",
       "    <tr>\n",
       "      <th>11</th>\n",
       "      <td>40</td>\n",
       "      <td>100</td>\n",
       "      <td>1.000000</td>\n",
       "      <td>1.0</td>\n",
       "      <td>1.0</td>\n",
       "      <td>1.000000</td>\n",
       "      <td>0.983173</td>\n",
       "      <td>0.996635</td>\n",
       "      <td>0.006731</td>\n",
       "    </tr>\n",
       "  </tbody>\n",
       "</table>\n",
       "</div>"
      ],
      "text/plain": [
       "   param_batch_size param_epochs  split0_test_score  split1_test_score  \\\n",
       "0                10           10           0.998397                1.0   \n",
       "1                10           50           1.000000                1.0   \n",
       "2                10          100           1.000000                1.0   \n",
       "3                20           10           0.993590                1.0   \n",
       "4                20           50           1.000000                1.0   \n",
       "5                20          100           1.000000                1.0   \n",
       "6                30           10           0.991987                1.0   \n",
       "7                30           50           1.000000                1.0   \n",
       "8                30          100           1.000000                1.0   \n",
       "9                40           10           0.994391                1.0   \n",
       "10               40           50           1.000000                1.0   \n",
       "11               40          100           1.000000                1.0   \n",
       "\n",
       "    split2_test_score  split3_test_score  split4_test_score  mean_test_score  \\\n",
       "0                 1.0           1.000000           0.975160         0.994712   \n",
       "1                 1.0           1.000000           0.990385         0.998077   \n",
       "2                 1.0           1.000000           0.964744         0.992949   \n",
       "3                 1.0           1.000000           0.980769         0.994872   \n",
       "4                 1.0           1.000000           0.978365         0.995673   \n",
       "5                 1.0           1.000000           0.987179         0.997436   \n",
       "6                 1.0           0.998397           0.981571         0.994391   \n",
       "7                 1.0           1.000000           0.975160         0.995032   \n",
       "8                 1.0           1.000000           0.977564         0.995513   \n",
       "9                 1.0           0.995994           0.978365         0.993750   \n",
       "10                1.0           1.000000           0.975962         0.995192   \n",
       "11                1.0           1.000000           0.983173         0.996635   \n",
       "\n",
       "    std_test_score  \n",
       "0         0.009795  \n",
       "1         0.003846  \n",
       "2         0.014103  \n",
       "3         0.007476  \n",
       "4         0.008654  \n",
       "5         0.005128  \n",
       "6         0.007059  \n",
       "7         0.009936  \n",
       "8         0.008974  \n",
       "9         0.008003  \n",
       "10        0.009615  \n",
       "11        0.006731  "
      ]
     },
     "execution_count": 116,
     "metadata": {},
     "output_type": "execute_result"
    }
   ],
   "source": [
    "df = pd.DataFrame(grid_search_result.cv_results_)\n",
    "df.iloc[:,[4,5,7,8,9,10,11,12,13]]"
   ]
  },
  {
   "cell_type": "code",
   "execution_count": null,
   "metadata": {},
   "outputs": [],
   "source": []
  }
 ],
 "metadata": {
  "kernelspec": {
   "display_name": "Python 3",
   "language": "python",
   "name": "python3"
  },
  "language_info": {
   "codemirror_mode": {
    "name": "ipython",
    "version": 3
   },
   "file_extension": ".py",
   "mimetype": "text/x-python",
   "name": "python",
   "nbconvert_exporter": "python",
   "pygments_lexer": "ipython3",
   "version": "3.7.6"
  }
 },
 "nbformat": 4,
 "nbformat_minor": 4
}
